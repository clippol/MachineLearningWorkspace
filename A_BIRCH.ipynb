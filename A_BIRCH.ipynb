{
  "nbformat": 4,
  "nbformat_minor": 0,
  "metadata": {
    "colab": {
      "provenance": [],
      "collapsed_sections": [
        "WrD9Pkn4L29g",
        "lr8DFS_OMlwu"
      ]
    },
    "kernelspec": {
      "name": "python3",
      "display_name": "Python 3"
    },
    "language_info": {
      "name": "python"
    }
  },
  "cells": [
    {
      "cell_type": "markdown",
      "source": [
        "# Project Description"
      ],
      "metadata": {
        "id": "OgMhcbJ5W7hy"
      }
    },
    {
      "cell_type": "markdown",
      "source": [
        "We used a credit card fraud dataset (https://www.kaggle.com/datasets/mlg-ulb/creditcardfraud) for building SVM and Decision Tree model. This dataset came with already standardized data due to privacy with PCA. Features include 28 features through PCA plus 2 features for time and amount.\n",
        "\n",
        "Authors: Greg Bayne, Chris Lippold, Michael Booser\n"
      ],
      "metadata": {
        "id": "RQc1yh-RXAQ7"
      }
    },
    {
      "cell_type": "markdown",
      "source": [
        "#Imports"
      ],
      "metadata": {
        "id": "5CywV9opQSum"
      }
    },
    {
      "cell_type": "code",
      "execution_count": null,
      "metadata": {
        "id": "yQOrh6WS2YNv"
      },
      "outputs": [],
      "source": [
        "import numpy as np\n",
        "import pandas as pd\n",
        "import sklearn.preprocessing as pp\n",
        "import matplotlib.pyplot as plt\n",
        "from sklearn.cluster import Birch\n",
        "from time import time\n",
        "import sklearn.model_selection as ms\n",
        "from sklearn.metrics import rand_score\n",
        "from sklearn.model_selection import train_test_split\n",
        "from sklearn import datasets\n",
        "from sklearn.cluster import KMeans\n",
        "from scipy.spatial.distance import cdist\n",
        "from sklearn import metrics\n",
        "import seaborn\n",
        "from sklearn.preprocessing import StandardScaler"
      ]
    },
    {
      "cell_type": "markdown",
      "source": [
        "#Loading and Investigating creditcard.csv Dataset"
      ],
      "metadata": {
        "id": "FsUeVLM5U-hw"
      }
    },
    {
      "cell_type": "markdown",
      "source": [
        "Attribute Explanation:"
      ],
      "metadata": {
        "id": "P_pqV7zfwERR"
      }
    },
    {
      "cell_type": "code",
      "source": [
        "raw_data = pd.read_csv('creditcard.csv', sep=',')\n",
        "#Drop Incomplete data, and fields not useful for clustering (categorical features)\n",
        "#data = raw_data.drop(columns=['address', 'year', 'day', 'neighbors'])\n",
        "data = raw_data.dropna(axis=0, how='any')\n",
        "data.shape\n",
        "x = data.drop(\"Class\", axis=1)\n",
        "y = data.drop(['Time', 'V1', 'V2','V3','V4','V5','V6','V7','V8','V9','V10','V11','V12','V13','V14','V15','V16','V17',\n",
        "               'V18','V19','V20','V21','V22','V23','V24','V25','V26','V27','V28','Amount'],axis=1)"
      ],
      "metadata": {
        "id": "ZI19iGoy31dc"
      },
      "execution_count": null,
      "outputs": []
    },
    {
      "cell_type": "code",
      "source": [
        "#print(x.info)\n",
        "print(y.info)"
      ],
      "metadata": {
        "id": "qEfOOFBPQeSB",
        "colab": {
          "base_uri": "https://localhost:8080/"
        },
        "outputId": "067f3194-018c-4370-a4a6-1f80a9209422"
      },
      "execution_count": null,
      "outputs": [
        {
          "output_type": "stream",
          "name": "stdout",
          "text": [
            "<bound method DataFrame.info of         Class\n",
            "0           0\n",
            "1           0\n",
            "2           0\n",
            "3           0\n",
            "4           0\n",
            "...       ...\n",
            "284802      0\n",
            "284803      0\n",
            "284804      0\n",
            "284805      0\n",
            "284806      0\n",
            "\n",
            "[284807 rows x 1 columns]>\n"
          ]
        }
      ]
    },
    {
      "cell_type": "code",
      "source": [
        "data.head()"
      ],
      "metadata": {
        "id": "myoSqmqnNxaD",
        "colab": {
          "base_uri": "https://localhost:8080/",
          "height": 300
        },
        "outputId": "27426a4b-aee2-4160-cd60-b16a3d463bfd"
      },
      "execution_count": null,
      "outputs": [
        {
          "output_type": "execute_result",
          "data": {
            "text/plain": [
              "   Time        V1        V2        V3        V4        V5        V6        V7  \\\n",
              "0   0.0 -1.359807 -0.072781  2.536347  1.378155 -0.338321  0.462388  0.239599   \n",
              "1   0.0  1.191857  0.266151  0.166480  0.448154  0.060018 -0.082361 -0.078803   \n",
              "2   1.0 -1.358354 -1.340163  1.773209  0.379780 -0.503198  1.800499  0.791461   \n",
              "3   1.0 -0.966272 -0.185226  1.792993 -0.863291 -0.010309  1.247203  0.237609   \n",
              "4   2.0 -1.158233  0.877737  1.548718  0.403034 -0.407193  0.095921  0.592941   \n",
              "\n",
              "         V8        V9  ...       V21       V22       V23       V24       V25  \\\n",
              "0  0.098698  0.363787  ... -0.018307  0.277838 -0.110474  0.066928  0.128539   \n",
              "1  0.085102 -0.255425  ... -0.225775 -0.638672  0.101288 -0.339846  0.167170   \n",
              "2  0.247676 -1.514654  ...  0.247998  0.771679  0.909412 -0.689281 -0.327642   \n",
              "3  0.377436 -1.387024  ... -0.108300  0.005274 -0.190321 -1.175575  0.647376   \n",
              "4 -0.270533  0.817739  ... -0.009431  0.798278 -0.137458  0.141267 -0.206010   \n",
              "\n",
              "        V26       V27       V28  Amount  Class  \n",
              "0 -0.189115  0.133558 -0.021053  149.62      0  \n",
              "1  0.125895 -0.008983  0.014724    2.69      0  \n",
              "2 -0.139097 -0.055353 -0.059752  378.66      0  \n",
              "3 -0.221929  0.062723  0.061458  123.50      0  \n",
              "4  0.502292  0.219422  0.215153   69.99      0  \n",
              "\n",
              "[5 rows x 31 columns]"
            ],
            "text/html": [
              "\n",
              "  <div id=\"df-4397f717-da5d-481b-be79-90fa34dd9207\">\n",
              "    <div class=\"colab-df-container\">\n",
              "      <div>\n",
              "<style scoped>\n",
              "    .dataframe tbody tr th:only-of-type {\n",
              "        vertical-align: middle;\n",
              "    }\n",
              "\n",
              "    .dataframe tbody tr th {\n",
              "        vertical-align: top;\n",
              "    }\n",
              "\n",
              "    .dataframe thead th {\n",
              "        text-align: right;\n",
              "    }\n",
              "</style>\n",
              "<table border=\"1\" class=\"dataframe\">\n",
              "  <thead>\n",
              "    <tr style=\"text-align: right;\">\n",
              "      <th></th>\n",
              "      <th>Time</th>\n",
              "      <th>V1</th>\n",
              "      <th>V2</th>\n",
              "      <th>V3</th>\n",
              "      <th>V4</th>\n",
              "      <th>V5</th>\n",
              "      <th>V6</th>\n",
              "      <th>V7</th>\n",
              "      <th>V8</th>\n",
              "      <th>V9</th>\n",
              "      <th>...</th>\n",
              "      <th>V21</th>\n",
              "      <th>V22</th>\n",
              "      <th>V23</th>\n",
              "      <th>V24</th>\n",
              "      <th>V25</th>\n",
              "      <th>V26</th>\n",
              "      <th>V27</th>\n",
              "      <th>V28</th>\n",
              "      <th>Amount</th>\n",
              "      <th>Class</th>\n",
              "    </tr>\n",
              "  </thead>\n",
              "  <tbody>\n",
              "    <tr>\n",
              "      <th>0</th>\n",
              "      <td>0.0</td>\n",
              "      <td>-1.359807</td>\n",
              "      <td>-0.072781</td>\n",
              "      <td>2.536347</td>\n",
              "      <td>1.378155</td>\n",
              "      <td>-0.338321</td>\n",
              "      <td>0.462388</td>\n",
              "      <td>0.239599</td>\n",
              "      <td>0.098698</td>\n",
              "      <td>0.363787</td>\n",
              "      <td>...</td>\n",
              "      <td>-0.018307</td>\n",
              "      <td>0.277838</td>\n",
              "      <td>-0.110474</td>\n",
              "      <td>0.066928</td>\n",
              "      <td>0.128539</td>\n",
              "      <td>-0.189115</td>\n",
              "      <td>0.133558</td>\n",
              "      <td>-0.021053</td>\n",
              "      <td>149.62</td>\n",
              "      <td>0</td>\n",
              "    </tr>\n",
              "    <tr>\n",
              "      <th>1</th>\n",
              "      <td>0.0</td>\n",
              "      <td>1.191857</td>\n",
              "      <td>0.266151</td>\n",
              "      <td>0.166480</td>\n",
              "      <td>0.448154</td>\n",
              "      <td>0.060018</td>\n",
              "      <td>-0.082361</td>\n",
              "      <td>-0.078803</td>\n",
              "      <td>0.085102</td>\n",
              "      <td>-0.255425</td>\n",
              "      <td>...</td>\n",
              "      <td>-0.225775</td>\n",
              "      <td>-0.638672</td>\n",
              "      <td>0.101288</td>\n",
              "      <td>-0.339846</td>\n",
              "      <td>0.167170</td>\n",
              "      <td>0.125895</td>\n",
              "      <td>-0.008983</td>\n",
              "      <td>0.014724</td>\n",
              "      <td>2.69</td>\n",
              "      <td>0</td>\n",
              "    </tr>\n",
              "    <tr>\n",
              "      <th>2</th>\n",
              "      <td>1.0</td>\n",
              "      <td>-1.358354</td>\n",
              "      <td>-1.340163</td>\n",
              "      <td>1.773209</td>\n",
              "      <td>0.379780</td>\n",
              "      <td>-0.503198</td>\n",
              "      <td>1.800499</td>\n",
              "      <td>0.791461</td>\n",
              "      <td>0.247676</td>\n",
              "      <td>-1.514654</td>\n",
              "      <td>...</td>\n",
              "      <td>0.247998</td>\n",
              "      <td>0.771679</td>\n",
              "      <td>0.909412</td>\n",
              "      <td>-0.689281</td>\n",
              "      <td>-0.327642</td>\n",
              "      <td>-0.139097</td>\n",
              "      <td>-0.055353</td>\n",
              "      <td>-0.059752</td>\n",
              "      <td>378.66</td>\n",
              "      <td>0</td>\n",
              "    </tr>\n",
              "    <tr>\n",
              "      <th>3</th>\n",
              "      <td>1.0</td>\n",
              "      <td>-0.966272</td>\n",
              "      <td>-0.185226</td>\n",
              "      <td>1.792993</td>\n",
              "      <td>-0.863291</td>\n",
              "      <td>-0.010309</td>\n",
              "      <td>1.247203</td>\n",
              "      <td>0.237609</td>\n",
              "      <td>0.377436</td>\n",
              "      <td>-1.387024</td>\n",
              "      <td>...</td>\n",
              "      <td>-0.108300</td>\n",
              "      <td>0.005274</td>\n",
              "      <td>-0.190321</td>\n",
              "      <td>-1.175575</td>\n",
              "      <td>0.647376</td>\n",
              "      <td>-0.221929</td>\n",
              "      <td>0.062723</td>\n",
              "      <td>0.061458</td>\n",
              "      <td>123.50</td>\n",
              "      <td>0</td>\n",
              "    </tr>\n",
              "    <tr>\n",
              "      <th>4</th>\n",
              "      <td>2.0</td>\n",
              "      <td>-1.158233</td>\n",
              "      <td>0.877737</td>\n",
              "      <td>1.548718</td>\n",
              "      <td>0.403034</td>\n",
              "      <td>-0.407193</td>\n",
              "      <td>0.095921</td>\n",
              "      <td>0.592941</td>\n",
              "      <td>-0.270533</td>\n",
              "      <td>0.817739</td>\n",
              "      <td>...</td>\n",
              "      <td>-0.009431</td>\n",
              "      <td>0.798278</td>\n",
              "      <td>-0.137458</td>\n",
              "      <td>0.141267</td>\n",
              "      <td>-0.206010</td>\n",
              "      <td>0.502292</td>\n",
              "      <td>0.219422</td>\n",
              "      <td>0.215153</td>\n",
              "      <td>69.99</td>\n",
              "      <td>0</td>\n",
              "    </tr>\n",
              "  </tbody>\n",
              "</table>\n",
              "<p>5 rows × 31 columns</p>\n",
              "</div>\n",
              "      <button class=\"colab-df-convert\" onclick=\"convertToInteractive('df-4397f717-da5d-481b-be79-90fa34dd9207')\"\n",
              "              title=\"Convert this dataframe to an interactive table.\"\n",
              "              style=\"display:none;\">\n",
              "        \n",
              "  <svg xmlns=\"http://www.w3.org/2000/svg\" height=\"24px\"viewBox=\"0 0 24 24\"\n",
              "       width=\"24px\">\n",
              "    <path d=\"M0 0h24v24H0V0z\" fill=\"none\"/>\n",
              "    <path d=\"M18.56 5.44l.94 2.06.94-2.06 2.06-.94-2.06-.94-.94-2.06-.94 2.06-2.06.94zm-11 1L8.5 8.5l.94-2.06 2.06-.94-2.06-.94L8.5 2.5l-.94 2.06-2.06.94zm10 10l.94 2.06.94-2.06 2.06-.94-2.06-.94-.94-2.06-.94 2.06-2.06.94z\"/><path d=\"M17.41 7.96l-1.37-1.37c-.4-.4-.92-.59-1.43-.59-.52 0-1.04.2-1.43.59L10.3 9.45l-7.72 7.72c-.78.78-.78 2.05 0 2.83L4 21.41c.39.39.9.59 1.41.59.51 0 1.02-.2 1.41-.59l7.78-7.78 2.81-2.81c.8-.78.8-2.07 0-2.86zM5.41 20L4 18.59l7.72-7.72 1.47 1.35L5.41 20z\"/>\n",
              "  </svg>\n",
              "      </button>\n",
              "      \n",
              "  <style>\n",
              "    .colab-df-container {\n",
              "      display:flex;\n",
              "      flex-wrap:wrap;\n",
              "      gap: 12px;\n",
              "    }\n",
              "\n",
              "    .colab-df-convert {\n",
              "      background-color: #E8F0FE;\n",
              "      border: none;\n",
              "      border-radius: 50%;\n",
              "      cursor: pointer;\n",
              "      display: none;\n",
              "      fill: #1967D2;\n",
              "      height: 32px;\n",
              "      padding: 0 0 0 0;\n",
              "      width: 32px;\n",
              "    }\n",
              "\n",
              "    .colab-df-convert:hover {\n",
              "      background-color: #E2EBFA;\n",
              "      box-shadow: 0px 1px 2px rgba(60, 64, 67, 0.3), 0px 1px 3px 1px rgba(60, 64, 67, 0.15);\n",
              "      fill: #174EA6;\n",
              "    }\n",
              "\n",
              "    [theme=dark] .colab-df-convert {\n",
              "      background-color: #3B4455;\n",
              "      fill: #D2E3FC;\n",
              "    }\n",
              "\n",
              "    [theme=dark] .colab-df-convert:hover {\n",
              "      background-color: #434B5C;\n",
              "      box-shadow: 0px 1px 3px 1px rgba(0, 0, 0, 0.15);\n",
              "      filter: drop-shadow(0px 1px 2px rgba(0, 0, 0, 0.3));\n",
              "      fill: #FFFFFF;\n",
              "    }\n",
              "  </style>\n",
              "\n",
              "      <script>\n",
              "        const buttonEl =\n",
              "          document.querySelector('#df-4397f717-da5d-481b-be79-90fa34dd9207 button.colab-df-convert');\n",
              "        buttonEl.style.display =\n",
              "          google.colab.kernel.accessAllowed ? 'block' : 'none';\n",
              "\n",
              "        async function convertToInteractive(key) {\n",
              "          const element = document.querySelector('#df-4397f717-da5d-481b-be79-90fa34dd9207');\n",
              "          const dataTable =\n",
              "            await google.colab.kernel.invokeFunction('convertToInteractive',\n",
              "                                                     [key], {});\n",
              "          if (!dataTable) return;\n",
              "\n",
              "          const docLinkHtml = 'Like what you see? Visit the ' +\n",
              "            '<a target=\"_blank\" href=https://colab.research.google.com/notebooks/data_table.ipynb>data table notebook</a>'\n",
              "            + ' to learn more about interactive tables.';\n",
              "          element.innerHTML = '';\n",
              "          dataTable['output_type'] = 'display_data';\n",
              "          await google.colab.output.renderOutput(dataTable, element);\n",
              "          const docLink = document.createElement('div');\n",
              "          docLink.innerHTML = docLinkHtml;\n",
              "          element.appendChild(docLink);\n",
              "        }\n",
              "      </script>\n",
              "    </div>\n",
              "  </div>\n",
              "  "
            ]
          },
          "metadata": {},
          "execution_count": 6
        }
      ]
    },
    {
      "cell_type": "code",
      "source": [
        "data.describe()"
      ],
      "metadata": {
        "id": "1B6I9gPPwXcQ",
        "colab": {
          "base_uri": "https://localhost:8080/",
          "height": 394
        },
        "outputId": "533c9bdb-dbeb-4bc4-9dfd-c8ef46dfde57"
      },
      "execution_count": null,
      "outputs": [
        {
          "output_type": "execute_result",
          "data": {
            "text/plain": [
              "                Time            V1            V2            V3            V4  \\\n",
              "count  284807.000000  2.848070e+05  2.848070e+05  2.848070e+05  2.848070e+05   \n",
              "mean    94813.859575  1.168375e-15  3.416908e-16 -1.379537e-15  2.074095e-15   \n",
              "std     47488.145955  1.958696e+00  1.651309e+00  1.516255e+00  1.415869e+00   \n",
              "min         0.000000 -5.640751e+01 -7.271573e+01 -4.832559e+01 -5.683171e+00   \n",
              "25%     54201.500000 -9.203734e-01 -5.985499e-01 -8.903648e-01 -8.486401e-01   \n",
              "50%     84692.000000  1.810880e-02  6.548556e-02  1.798463e-01 -1.984653e-02   \n",
              "75%    139320.500000  1.315642e+00  8.037239e-01  1.027196e+00  7.433413e-01   \n",
              "max    172792.000000  2.454930e+00  2.205773e+01  9.382558e+00  1.687534e+01   \n",
              "\n",
              "                 V5            V6            V7            V8            V9  \\\n",
              "count  2.848070e+05  2.848070e+05  2.848070e+05  2.848070e+05  2.848070e+05   \n",
              "mean   9.604066e-16  1.487313e-15 -5.556467e-16  1.213481e-16 -2.406331e-15   \n",
              "std    1.380247e+00  1.332271e+00  1.237094e+00  1.194353e+00  1.098632e+00   \n",
              "min   -1.137433e+02 -2.616051e+01 -4.355724e+01 -7.321672e+01 -1.343407e+01   \n",
              "25%   -6.915971e-01 -7.682956e-01 -5.540759e-01 -2.086297e-01 -6.430976e-01   \n",
              "50%   -5.433583e-02 -2.741871e-01  4.010308e-02  2.235804e-02 -5.142873e-02   \n",
              "75%    6.119264e-01  3.985649e-01  5.704361e-01  3.273459e-01  5.971390e-01   \n",
              "max    3.480167e+01  7.330163e+01  1.205895e+02  2.000721e+01  1.559499e+01   \n",
              "\n",
              "       ...           V21           V22           V23           V24  \\\n",
              "count  ...  2.848070e+05  2.848070e+05  2.848070e+05  2.848070e+05   \n",
              "mean   ...  1.654067e-16 -3.568593e-16  2.578648e-16  4.473266e-15   \n",
              "std    ...  7.345240e-01  7.257016e-01  6.244603e-01  6.056471e-01   \n",
              "min    ... -3.483038e+01 -1.093314e+01 -4.480774e+01 -2.836627e+00   \n",
              "25%    ... -2.283949e-01 -5.423504e-01 -1.618463e-01 -3.545861e-01   \n",
              "50%    ... -2.945017e-02  6.781943e-03 -1.119293e-02  4.097606e-02   \n",
              "75%    ...  1.863772e-01  5.285536e-01  1.476421e-01  4.395266e-01   \n",
              "max    ...  2.720284e+01  1.050309e+01  2.252841e+01  4.584549e+00   \n",
              "\n",
              "                V25           V26           V27           V28         Amount  \\\n",
              "count  2.848070e+05  2.848070e+05  2.848070e+05  2.848070e+05  284807.000000   \n",
              "mean   5.340915e-16  1.683437e-15 -3.660091e-16 -1.227390e-16      88.349619   \n",
              "std    5.212781e-01  4.822270e-01  4.036325e-01  3.300833e-01     250.120109   \n",
              "min   -1.029540e+01 -2.604551e+00 -2.256568e+01 -1.543008e+01       0.000000   \n",
              "25%   -3.171451e-01 -3.269839e-01 -7.083953e-02 -5.295979e-02       5.600000   \n",
              "50%    1.659350e-02 -5.213911e-02  1.342146e-03  1.124383e-02      22.000000   \n",
              "75%    3.507156e-01  2.409522e-01  9.104512e-02  7.827995e-02      77.165000   \n",
              "max    7.519589e+00  3.517346e+00  3.161220e+01  3.384781e+01   25691.160000   \n",
              "\n",
              "               Class  \n",
              "count  284807.000000  \n",
              "mean        0.001727  \n",
              "std         0.041527  \n",
              "min         0.000000  \n",
              "25%         0.000000  \n",
              "50%         0.000000  \n",
              "75%         0.000000  \n",
              "max         1.000000  \n",
              "\n",
              "[8 rows x 31 columns]"
            ],
            "text/html": [
              "\n",
              "  <div id=\"df-a940f350-e0a2-455e-acb7-f8616f5d8a0d\">\n",
              "    <div class=\"colab-df-container\">\n",
              "      <div>\n",
              "<style scoped>\n",
              "    .dataframe tbody tr th:only-of-type {\n",
              "        vertical-align: middle;\n",
              "    }\n",
              "\n",
              "    .dataframe tbody tr th {\n",
              "        vertical-align: top;\n",
              "    }\n",
              "\n",
              "    .dataframe thead th {\n",
              "        text-align: right;\n",
              "    }\n",
              "</style>\n",
              "<table border=\"1\" class=\"dataframe\">\n",
              "  <thead>\n",
              "    <tr style=\"text-align: right;\">\n",
              "      <th></th>\n",
              "      <th>Time</th>\n",
              "      <th>V1</th>\n",
              "      <th>V2</th>\n",
              "      <th>V3</th>\n",
              "      <th>V4</th>\n",
              "      <th>V5</th>\n",
              "      <th>V6</th>\n",
              "      <th>V7</th>\n",
              "      <th>V8</th>\n",
              "      <th>V9</th>\n",
              "      <th>...</th>\n",
              "      <th>V21</th>\n",
              "      <th>V22</th>\n",
              "      <th>V23</th>\n",
              "      <th>V24</th>\n",
              "      <th>V25</th>\n",
              "      <th>V26</th>\n",
              "      <th>V27</th>\n",
              "      <th>V28</th>\n",
              "      <th>Amount</th>\n",
              "      <th>Class</th>\n",
              "    </tr>\n",
              "  </thead>\n",
              "  <tbody>\n",
              "    <tr>\n",
              "      <th>count</th>\n",
              "      <td>284807.000000</td>\n",
              "      <td>2.848070e+05</td>\n",
              "      <td>2.848070e+05</td>\n",
              "      <td>2.848070e+05</td>\n",
              "      <td>2.848070e+05</td>\n",
              "      <td>2.848070e+05</td>\n",
              "      <td>2.848070e+05</td>\n",
              "      <td>2.848070e+05</td>\n",
              "      <td>2.848070e+05</td>\n",
              "      <td>2.848070e+05</td>\n",
              "      <td>...</td>\n",
              "      <td>2.848070e+05</td>\n",
              "      <td>2.848070e+05</td>\n",
              "      <td>2.848070e+05</td>\n",
              "      <td>2.848070e+05</td>\n",
              "      <td>2.848070e+05</td>\n",
              "      <td>2.848070e+05</td>\n",
              "      <td>2.848070e+05</td>\n",
              "      <td>2.848070e+05</td>\n",
              "      <td>284807.000000</td>\n",
              "      <td>284807.000000</td>\n",
              "    </tr>\n",
              "    <tr>\n",
              "      <th>mean</th>\n",
              "      <td>94813.859575</td>\n",
              "      <td>1.168375e-15</td>\n",
              "      <td>3.416908e-16</td>\n",
              "      <td>-1.379537e-15</td>\n",
              "      <td>2.074095e-15</td>\n",
              "      <td>9.604066e-16</td>\n",
              "      <td>1.487313e-15</td>\n",
              "      <td>-5.556467e-16</td>\n",
              "      <td>1.213481e-16</td>\n",
              "      <td>-2.406331e-15</td>\n",
              "      <td>...</td>\n",
              "      <td>1.654067e-16</td>\n",
              "      <td>-3.568593e-16</td>\n",
              "      <td>2.578648e-16</td>\n",
              "      <td>4.473266e-15</td>\n",
              "      <td>5.340915e-16</td>\n",
              "      <td>1.683437e-15</td>\n",
              "      <td>-3.660091e-16</td>\n",
              "      <td>-1.227390e-16</td>\n",
              "      <td>88.349619</td>\n",
              "      <td>0.001727</td>\n",
              "    </tr>\n",
              "    <tr>\n",
              "      <th>std</th>\n",
              "      <td>47488.145955</td>\n",
              "      <td>1.958696e+00</td>\n",
              "      <td>1.651309e+00</td>\n",
              "      <td>1.516255e+00</td>\n",
              "      <td>1.415869e+00</td>\n",
              "      <td>1.380247e+00</td>\n",
              "      <td>1.332271e+00</td>\n",
              "      <td>1.237094e+00</td>\n",
              "      <td>1.194353e+00</td>\n",
              "      <td>1.098632e+00</td>\n",
              "      <td>...</td>\n",
              "      <td>7.345240e-01</td>\n",
              "      <td>7.257016e-01</td>\n",
              "      <td>6.244603e-01</td>\n",
              "      <td>6.056471e-01</td>\n",
              "      <td>5.212781e-01</td>\n",
              "      <td>4.822270e-01</td>\n",
              "      <td>4.036325e-01</td>\n",
              "      <td>3.300833e-01</td>\n",
              "      <td>250.120109</td>\n",
              "      <td>0.041527</td>\n",
              "    </tr>\n",
              "    <tr>\n",
              "      <th>min</th>\n",
              "      <td>0.000000</td>\n",
              "      <td>-5.640751e+01</td>\n",
              "      <td>-7.271573e+01</td>\n",
              "      <td>-4.832559e+01</td>\n",
              "      <td>-5.683171e+00</td>\n",
              "      <td>-1.137433e+02</td>\n",
              "      <td>-2.616051e+01</td>\n",
              "      <td>-4.355724e+01</td>\n",
              "      <td>-7.321672e+01</td>\n",
              "      <td>-1.343407e+01</td>\n",
              "      <td>...</td>\n",
              "      <td>-3.483038e+01</td>\n",
              "      <td>-1.093314e+01</td>\n",
              "      <td>-4.480774e+01</td>\n",
              "      <td>-2.836627e+00</td>\n",
              "      <td>-1.029540e+01</td>\n",
              "      <td>-2.604551e+00</td>\n",
              "      <td>-2.256568e+01</td>\n",
              "      <td>-1.543008e+01</td>\n",
              "      <td>0.000000</td>\n",
              "      <td>0.000000</td>\n",
              "    </tr>\n",
              "    <tr>\n",
              "      <th>25%</th>\n",
              "      <td>54201.500000</td>\n",
              "      <td>-9.203734e-01</td>\n",
              "      <td>-5.985499e-01</td>\n",
              "      <td>-8.903648e-01</td>\n",
              "      <td>-8.486401e-01</td>\n",
              "      <td>-6.915971e-01</td>\n",
              "      <td>-7.682956e-01</td>\n",
              "      <td>-5.540759e-01</td>\n",
              "      <td>-2.086297e-01</td>\n",
              "      <td>-6.430976e-01</td>\n",
              "      <td>...</td>\n",
              "      <td>-2.283949e-01</td>\n",
              "      <td>-5.423504e-01</td>\n",
              "      <td>-1.618463e-01</td>\n",
              "      <td>-3.545861e-01</td>\n",
              "      <td>-3.171451e-01</td>\n",
              "      <td>-3.269839e-01</td>\n",
              "      <td>-7.083953e-02</td>\n",
              "      <td>-5.295979e-02</td>\n",
              "      <td>5.600000</td>\n",
              "      <td>0.000000</td>\n",
              "    </tr>\n",
              "    <tr>\n",
              "      <th>50%</th>\n",
              "      <td>84692.000000</td>\n",
              "      <td>1.810880e-02</td>\n",
              "      <td>6.548556e-02</td>\n",
              "      <td>1.798463e-01</td>\n",
              "      <td>-1.984653e-02</td>\n",
              "      <td>-5.433583e-02</td>\n",
              "      <td>-2.741871e-01</td>\n",
              "      <td>4.010308e-02</td>\n",
              "      <td>2.235804e-02</td>\n",
              "      <td>-5.142873e-02</td>\n",
              "      <td>...</td>\n",
              "      <td>-2.945017e-02</td>\n",
              "      <td>6.781943e-03</td>\n",
              "      <td>-1.119293e-02</td>\n",
              "      <td>4.097606e-02</td>\n",
              "      <td>1.659350e-02</td>\n",
              "      <td>-5.213911e-02</td>\n",
              "      <td>1.342146e-03</td>\n",
              "      <td>1.124383e-02</td>\n",
              "      <td>22.000000</td>\n",
              "      <td>0.000000</td>\n",
              "    </tr>\n",
              "    <tr>\n",
              "      <th>75%</th>\n",
              "      <td>139320.500000</td>\n",
              "      <td>1.315642e+00</td>\n",
              "      <td>8.037239e-01</td>\n",
              "      <td>1.027196e+00</td>\n",
              "      <td>7.433413e-01</td>\n",
              "      <td>6.119264e-01</td>\n",
              "      <td>3.985649e-01</td>\n",
              "      <td>5.704361e-01</td>\n",
              "      <td>3.273459e-01</td>\n",
              "      <td>5.971390e-01</td>\n",
              "      <td>...</td>\n",
              "      <td>1.863772e-01</td>\n",
              "      <td>5.285536e-01</td>\n",
              "      <td>1.476421e-01</td>\n",
              "      <td>4.395266e-01</td>\n",
              "      <td>3.507156e-01</td>\n",
              "      <td>2.409522e-01</td>\n",
              "      <td>9.104512e-02</td>\n",
              "      <td>7.827995e-02</td>\n",
              "      <td>77.165000</td>\n",
              "      <td>0.000000</td>\n",
              "    </tr>\n",
              "    <tr>\n",
              "      <th>max</th>\n",
              "      <td>172792.000000</td>\n",
              "      <td>2.454930e+00</td>\n",
              "      <td>2.205773e+01</td>\n",
              "      <td>9.382558e+00</td>\n",
              "      <td>1.687534e+01</td>\n",
              "      <td>3.480167e+01</td>\n",
              "      <td>7.330163e+01</td>\n",
              "      <td>1.205895e+02</td>\n",
              "      <td>2.000721e+01</td>\n",
              "      <td>1.559499e+01</td>\n",
              "      <td>...</td>\n",
              "      <td>2.720284e+01</td>\n",
              "      <td>1.050309e+01</td>\n",
              "      <td>2.252841e+01</td>\n",
              "      <td>4.584549e+00</td>\n",
              "      <td>7.519589e+00</td>\n",
              "      <td>3.517346e+00</td>\n",
              "      <td>3.161220e+01</td>\n",
              "      <td>3.384781e+01</td>\n",
              "      <td>25691.160000</td>\n",
              "      <td>1.000000</td>\n",
              "    </tr>\n",
              "  </tbody>\n",
              "</table>\n",
              "<p>8 rows × 31 columns</p>\n",
              "</div>\n",
              "      <button class=\"colab-df-convert\" onclick=\"convertToInteractive('df-a940f350-e0a2-455e-acb7-f8616f5d8a0d')\"\n",
              "              title=\"Convert this dataframe to an interactive table.\"\n",
              "              style=\"display:none;\">\n",
              "        \n",
              "  <svg xmlns=\"http://www.w3.org/2000/svg\" height=\"24px\"viewBox=\"0 0 24 24\"\n",
              "       width=\"24px\">\n",
              "    <path d=\"M0 0h24v24H0V0z\" fill=\"none\"/>\n",
              "    <path d=\"M18.56 5.44l.94 2.06.94-2.06 2.06-.94-2.06-.94-.94-2.06-.94 2.06-2.06.94zm-11 1L8.5 8.5l.94-2.06 2.06-.94-2.06-.94L8.5 2.5l-.94 2.06-2.06.94zm10 10l.94 2.06.94-2.06 2.06-.94-2.06-.94-.94-2.06-.94 2.06-2.06.94z\"/><path d=\"M17.41 7.96l-1.37-1.37c-.4-.4-.92-.59-1.43-.59-.52 0-1.04.2-1.43.59L10.3 9.45l-7.72 7.72c-.78.78-.78 2.05 0 2.83L4 21.41c.39.39.9.59 1.41.59.51 0 1.02-.2 1.41-.59l7.78-7.78 2.81-2.81c.8-.78.8-2.07 0-2.86zM5.41 20L4 18.59l7.72-7.72 1.47 1.35L5.41 20z\"/>\n",
              "  </svg>\n",
              "      </button>\n",
              "      \n",
              "  <style>\n",
              "    .colab-df-container {\n",
              "      display:flex;\n",
              "      flex-wrap:wrap;\n",
              "      gap: 12px;\n",
              "    }\n",
              "\n",
              "    .colab-df-convert {\n",
              "      background-color: #E8F0FE;\n",
              "      border: none;\n",
              "      border-radius: 50%;\n",
              "      cursor: pointer;\n",
              "      display: none;\n",
              "      fill: #1967D2;\n",
              "      height: 32px;\n",
              "      padding: 0 0 0 0;\n",
              "      width: 32px;\n",
              "    }\n",
              "\n",
              "    .colab-df-convert:hover {\n",
              "      background-color: #E2EBFA;\n",
              "      box-shadow: 0px 1px 2px rgba(60, 64, 67, 0.3), 0px 1px 3px 1px rgba(60, 64, 67, 0.15);\n",
              "      fill: #174EA6;\n",
              "    }\n",
              "\n",
              "    [theme=dark] .colab-df-convert {\n",
              "      background-color: #3B4455;\n",
              "      fill: #D2E3FC;\n",
              "    }\n",
              "\n",
              "    [theme=dark] .colab-df-convert:hover {\n",
              "      background-color: #434B5C;\n",
              "      box-shadow: 0px 1px 3px 1px rgba(0, 0, 0, 0.15);\n",
              "      filter: drop-shadow(0px 1px 2px rgba(0, 0, 0, 0.3));\n",
              "      fill: #FFFFFF;\n",
              "    }\n",
              "  </style>\n",
              "\n",
              "      <script>\n",
              "        const buttonEl =\n",
              "          document.querySelector('#df-a940f350-e0a2-455e-acb7-f8616f5d8a0d button.colab-df-convert');\n",
              "        buttonEl.style.display =\n",
              "          google.colab.kernel.accessAllowed ? 'block' : 'none';\n",
              "\n",
              "        async function convertToInteractive(key) {\n",
              "          const element = document.querySelector('#df-a940f350-e0a2-455e-acb7-f8616f5d8a0d');\n",
              "          const dataTable =\n",
              "            await google.colab.kernel.invokeFunction('convertToInteractive',\n",
              "                                                     [key], {});\n",
              "          if (!dataTable) return;\n",
              "\n",
              "          const docLinkHtml = 'Like what you see? Visit the ' +\n",
              "            '<a target=\"_blank\" href=https://colab.research.google.com/notebooks/data_table.ipynb>data table notebook</a>'\n",
              "            + ' to learn more about interactive tables.';\n",
              "          element.innerHTML = '';\n",
              "          dataTable['output_type'] = 'display_data';\n",
              "          await google.colab.output.renderOutput(dataTable, element);\n",
              "          const docLink = document.createElement('div');\n",
              "          docLink.innerHTML = docLinkHtml;\n",
              "          element.appendChild(docLink);\n",
              "        }\n",
              "      </script>\n",
              "    </div>\n",
              "  </div>\n",
              "  "
            ]
          },
          "metadata": {},
          "execution_count": 7
        }
      ]
    },
    {
      "cell_type": "code",
      "source": [
        "data.info()"
      ],
      "metadata": {
        "id": "2b__f2ZkwaAG",
        "colab": {
          "base_uri": "https://localhost:8080/"
        },
        "outputId": "045c74a9-2f6c-4acd-ff35-78712ee5d8fc"
      },
      "execution_count": null,
      "outputs": [
        {
          "output_type": "stream",
          "name": "stdout",
          "text": [
            "<class 'pandas.core.frame.DataFrame'>\n",
            "Int64Index: 284807 entries, 0 to 284806\n",
            "Data columns (total 31 columns):\n",
            " #   Column  Non-Null Count   Dtype  \n",
            "---  ------  --------------   -----  \n",
            " 0   Time    284807 non-null  float64\n",
            " 1   V1      284807 non-null  float64\n",
            " 2   V2      284807 non-null  float64\n",
            " 3   V3      284807 non-null  float64\n",
            " 4   V4      284807 non-null  float64\n",
            " 5   V5      284807 non-null  float64\n",
            " 6   V6      284807 non-null  float64\n",
            " 7   V7      284807 non-null  float64\n",
            " 8   V8      284807 non-null  float64\n",
            " 9   V9      284807 non-null  float64\n",
            " 10  V10     284807 non-null  float64\n",
            " 11  V11     284807 non-null  float64\n",
            " 12  V12     284807 non-null  float64\n",
            " 13  V13     284807 non-null  float64\n",
            " 14  V14     284807 non-null  float64\n",
            " 15  V15     284807 non-null  float64\n",
            " 16  V16     284807 non-null  float64\n",
            " 17  V17     284807 non-null  float64\n",
            " 18  V18     284807 non-null  float64\n",
            " 19  V19     284807 non-null  float64\n",
            " 20  V20     284807 non-null  float64\n",
            " 21  V21     284807 non-null  float64\n",
            " 22  V22     284807 non-null  float64\n",
            " 23  V23     284807 non-null  float64\n",
            " 24  V24     284807 non-null  float64\n",
            " 25  V25     284807 non-null  float64\n",
            " 26  V26     284807 non-null  float64\n",
            " 27  V27     284807 non-null  float64\n",
            " 28  V28     284807 non-null  float64\n",
            " 29  Amount  284807 non-null  float64\n",
            " 30  Class   284807 non-null  int64  \n",
            "dtypes: float64(30), int64(1)\n",
            "memory usage: 69.5 MB\n"
          ]
        }
      ]
    },
    {
      "cell_type": "markdown",
      "source": [
        "#Preprocessing"
      ],
      "metadata": {
        "id": "4xvdHnrswubs"
      }
    },
    {
      "cell_type": "markdown",
      "source": [
        "**Do Preprocessing here**"
      ],
      "metadata": {
        "id": "7NPTxsEByCga"
      }
    },
    {
      "cell_type": "markdown",
      "source": [
        "##Defined Functions"
      ],
      "metadata": {
        "id": "KeGvJ9zXx35C"
      }
    },
    {
      "cell_type": "markdown",
      "source": [
        "The following functions are defined so that we may:\n",
        "\n",
        "1. Increase Reusable code\n",
        "2. Benchmark runtimes for the BIRCH algorithm"
      ],
      "metadata": {
        "id": "721kmTOtxIg4"
      }
    },
    {
      "cell_type": "code",
      "source": [
        "scaler = StandardScaler()\n",
        "data = scaler.fit_transform(data)\n",
        "data = pd.DataFrame(data=data)\n",
        "sample = data.sample(n=25000, random_state=42)\n",
        "sample"
      ],
      "metadata": {
        "colab": {
          "base_uri": "https://localhost:8080/",
          "height": 488
        },
        "id": "q55piOasA0l9",
        "outputId": "ee131e63-3b9f-4d76-b140-9c18c9a35b7b"
      },
      "execution_count": null,
      "outputs": [
        {
          "output_type": "execute_result",
          "data": {
            "text/plain": [
              "              0         1         2          3         4         5         6   \\\n",
              "43428  -1.122574 -8.437520  5.198899 -12.299967  6.713625 -9.993751 -2.126001   \n",
              "49906  -1.064538  0.173489 -1.661561  -0.088422 -0.978715 -1.051563  0.762524   \n",
              "29474  -1.249364  0.714553 -0.357718   0.111208 -0.727435 -0.391095  0.030357   \n",
              "276481  1.522680 -0.220592  0.997935  -1.100978 -0.246848  0.569308 -0.473363   \n",
              "278846  1.551109  1.028319 -0.083203  -0.669967  0.231144 -0.131991 -0.718001   \n",
              "...          ...       ...       ...        ...       ...       ...       ...   \n",
              "95471  -0.620995 -0.285878  0.062448   0.210995 -0.687330  0.888631 -0.958523   \n",
              "22027  -1.322898  0.458652 -0.508363   0.717259  0.161618 -0.881690  0.232942   \n",
              "115639 -0.439434  0.705159 -0.777461   0.166106 -0.894838 -0.908337 -0.127338   \n",
              "199293  0.801847 -0.611533 -0.477165   0.099550 -0.583660  1.662015 -1.795232   \n",
              "33011  -1.216282  0.460494 -0.784436  -0.055498 -0.268829 -0.792303 -0.263885   \n",
              "\n",
              "               7         8         9   ...        21        22        23  \\\n",
              "43428  -13.500776  6.294084 -7.743333  ...  1.621105 -1.553906 -3.776994   \n",
              "49906   -0.423881  0.187600  0.818971  ... -0.290578 -1.298780 -0.843641   \n",
              "29474   -0.576002  0.001925 -0.884508  ...  0.139407  0.231872 -0.266853   \n",
              "276481   0.223904  0.490664 -0.441200  ...  0.488660  1.203890 -0.286074   \n",
              "278846   0.034954 -0.134589  0.330631  ... -0.324896 -0.849387  0.555752   \n",
              "...           ...       ...       ...  ...       ...       ...       ...   \n",
              "95471    0.894247 -0.330695 -0.515264  ...  0.218251  0.714534  0.244634   \n",
              "22027   -0.582526  0.275445  0.911691  ... -0.110384 -0.346827  0.051660   \n",
              "115639  -0.699590 -0.159001 -1.439133  ... -0.592932 -1.161554 -0.137303   \n",
              "199293   0.244913 -0.190604  0.051338  ...  0.158050 -0.035482  0.336855   \n",
              "33011   -0.176043  0.000604 -0.808158  ... -0.335578 -0.889912 -0.207538   \n",
              "\n",
              "              24        25        26        27        28        29         30  \n",
              "43428   1.111972 -2.711992 -0.959638 -5.001031 -3.159221  1.102834  24.039052  \n",
              "49906  -1.910343  0.597015 -1.548333  0.101567  0.309128  1.726255  -0.041599  \n",
              "29474  -1.337827  0.968934 -0.481807  0.028265  0.014039 -0.229289  -0.041599  \n",
              "276481 -0.028351 -0.397853 -0.327142 -0.588125  0.005860 -0.347232  -0.041599  \n",
              "278846  0.101645 -0.690987  0.362340 -0.193353 -0.213796 -0.349671  -0.041599  \n",
              "...          ...       ...       ...       ...       ...       ...        ...  \n",
              "95471   0.169270 -1.575649  1.473101  0.367746  0.149432 -0.122100  -0.041599  \n",
              "22027   0.476046 -0.103070  1.933858 -0.111891  0.062589  0.119664  -0.041599  \n",
              "115639 -0.736856  0.869407 -0.607363  0.092840  0.097506  0.046579  -0.041599  \n",
              "199293 -0.030914 -0.930823 -0.628902  0.244808  0.707013 -0.353229  -0.041599  \n",
              "33011   0.401761  0.343980  2.227649 -0.258349  0.059499  0.506279  -0.041599  \n",
              "\n",
              "[25000 rows x 31 columns]"
            ],
            "text/html": [
              "\n",
              "  <div id=\"df-a63ff850-ba47-4126-b2aa-258f80dc1325\">\n",
              "    <div class=\"colab-df-container\">\n",
              "      <div>\n",
              "<style scoped>\n",
              "    .dataframe tbody tr th:only-of-type {\n",
              "        vertical-align: middle;\n",
              "    }\n",
              "\n",
              "    .dataframe tbody tr th {\n",
              "        vertical-align: top;\n",
              "    }\n",
              "\n",
              "    .dataframe thead th {\n",
              "        text-align: right;\n",
              "    }\n",
              "</style>\n",
              "<table border=\"1\" class=\"dataframe\">\n",
              "  <thead>\n",
              "    <tr style=\"text-align: right;\">\n",
              "      <th></th>\n",
              "      <th>0</th>\n",
              "      <th>1</th>\n",
              "      <th>2</th>\n",
              "      <th>3</th>\n",
              "      <th>4</th>\n",
              "      <th>5</th>\n",
              "      <th>6</th>\n",
              "      <th>7</th>\n",
              "      <th>8</th>\n",
              "      <th>9</th>\n",
              "      <th>...</th>\n",
              "      <th>21</th>\n",
              "      <th>22</th>\n",
              "      <th>23</th>\n",
              "      <th>24</th>\n",
              "      <th>25</th>\n",
              "      <th>26</th>\n",
              "      <th>27</th>\n",
              "      <th>28</th>\n",
              "      <th>29</th>\n",
              "      <th>30</th>\n",
              "    </tr>\n",
              "  </thead>\n",
              "  <tbody>\n",
              "    <tr>\n",
              "      <th>43428</th>\n",
              "      <td>-1.122574</td>\n",
              "      <td>-8.437520</td>\n",
              "      <td>5.198899</td>\n",
              "      <td>-12.299967</td>\n",
              "      <td>6.713625</td>\n",
              "      <td>-9.993751</td>\n",
              "      <td>-2.126001</td>\n",
              "      <td>-13.500776</td>\n",
              "      <td>6.294084</td>\n",
              "      <td>-7.743333</td>\n",
              "      <td>...</td>\n",
              "      <td>1.621105</td>\n",
              "      <td>-1.553906</td>\n",
              "      <td>-3.776994</td>\n",
              "      <td>1.111972</td>\n",
              "      <td>-2.711992</td>\n",
              "      <td>-0.959638</td>\n",
              "      <td>-5.001031</td>\n",
              "      <td>-3.159221</td>\n",
              "      <td>1.102834</td>\n",
              "      <td>24.039052</td>\n",
              "    </tr>\n",
              "    <tr>\n",
              "      <th>49906</th>\n",
              "      <td>-1.064538</td>\n",
              "      <td>0.173489</td>\n",
              "      <td>-1.661561</td>\n",
              "      <td>-0.088422</td>\n",
              "      <td>-0.978715</td>\n",
              "      <td>-1.051563</td>\n",
              "      <td>0.762524</td>\n",
              "      <td>-0.423881</td>\n",
              "      <td>0.187600</td>\n",
              "      <td>0.818971</td>\n",
              "      <td>...</td>\n",
              "      <td>-0.290578</td>\n",
              "      <td>-1.298780</td>\n",
              "      <td>-0.843641</td>\n",
              "      <td>-1.910343</td>\n",
              "      <td>0.597015</td>\n",
              "      <td>-1.548333</td>\n",
              "      <td>0.101567</td>\n",
              "      <td>0.309128</td>\n",
              "      <td>1.726255</td>\n",
              "      <td>-0.041599</td>\n",
              "    </tr>\n",
              "    <tr>\n",
              "      <th>29474</th>\n",
              "      <td>-1.249364</td>\n",
              "      <td>0.714553</td>\n",
              "      <td>-0.357718</td>\n",
              "      <td>0.111208</td>\n",
              "      <td>-0.727435</td>\n",
              "      <td>-0.391095</td>\n",
              "      <td>0.030357</td>\n",
              "      <td>-0.576002</td>\n",
              "      <td>0.001925</td>\n",
              "      <td>-0.884508</td>\n",
              "      <td>...</td>\n",
              "      <td>0.139407</td>\n",
              "      <td>0.231872</td>\n",
              "      <td>-0.266853</td>\n",
              "      <td>-1.337827</td>\n",
              "      <td>0.968934</td>\n",
              "      <td>-0.481807</td>\n",
              "      <td>0.028265</td>\n",
              "      <td>0.014039</td>\n",
              "      <td>-0.229289</td>\n",
              "      <td>-0.041599</td>\n",
              "    </tr>\n",
              "    <tr>\n",
              "      <th>276481</th>\n",
              "      <td>1.522680</td>\n",
              "      <td>-0.220592</td>\n",
              "      <td>0.997935</td>\n",
              "      <td>-1.100978</td>\n",
              "      <td>-0.246848</td>\n",
              "      <td>0.569308</td>\n",
              "      <td>-0.473363</td>\n",
              "      <td>0.223904</td>\n",
              "      <td>0.490664</td>\n",
              "      <td>-0.441200</td>\n",
              "      <td>...</td>\n",
              "      <td>0.488660</td>\n",
              "      <td>1.203890</td>\n",
              "      <td>-0.286074</td>\n",
              "      <td>-0.028351</td>\n",
              "      <td>-0.397853</td>\n",
              "      <td>-0.327142</td>\n",
              "      <td>-0.588125</td>\n",
              "      <td>0.005860</td>\n",
              "      <td>-0.347232</td>\n",
              "      <td>-0.041599</td>\n",
              "    </tr>\n",
              "    <tr>\n",
              "      <th>278846</th>\n",
              "      <td>1.551109</td>\n",
              "      <td>1.028319</td>\n",
              "      <td>-0.083203</td>\n",
              "      <td>-0.669967</td>\n",
              "      <td>0.231144</td>\n",
              "      <td>-0.131991</td>\n",
              "      <td>-0.718001</td>\n",
              "      <td>0.034954</td>\n",
              "      <td>-0.134589</td>\n",
              "      <td>0.330631</td>\n",
              "      <td>...</td>\n",
              "      <td>-0.324896</td>\n",
              "      <td>-0.849387</td>\n",
              "      <td>0.555752</td>\n",
              "      <td>0.101645</td>\n",
              "      <td>-0.690987</td>\n",
              "      <td>0.362340</td>\n",
              "      <td>-0.193353</td>\n",
              "      <td>-0.213796</td>\n",
              "      <td>-0.349671</td>\n",
              "      <td>-0.041599</td>\n",
              "    </tr>\n",
              "    <tr>\n",
              "      <th>...</th>\n",
              "      <td>...</td>\n",
              "      <td>...</td>\n",
              "      <td>...</td>\n",
              "      <td>...</td>\n",
              "      <td>...</td>\n",
              "      <td>...</td>\n",
              "      <td>...</td>\n",
              "      <td>...</td>\n",
              "      <td>...</td>\n",
              "      <td>...</td>\n",
              "      <td>...</td>\n",
              "      <td>...</td>\n",
              "      <td>...</td>\n",
              "      <td>...</td>\n",
              "      <td>...</td>\n",
              "      <td>...</td>\n",
              "      <td>...</td>\n",
              "      <td>...</td>\n",
              "      <td>...</td>\n",
              "      <td>...</td>\n",
              "      <td>...</td>\n",
              "    </tr>\n",
              "    <tr>\n",
              "      <th>95471</th>\n",
              "      <td>-0.620995</td>\n",
              "      <td>-0.285878</td>\n",
              "      <td>0.062448</td>\n",
              "      <td>0.210995</td>\n",
              "      <td>-0.687330</td>\n",
              "      <td>0.888631</td>\n",
              "      <td>-0.958523</td>\n",
              "      <td>0.894247</td>\n",
              "      <td>-0.330695</td>\n",
              "      <td>-0.515264</td>\n",
              "      <td>...</td>\n",
              "      <td>0.218251</td>\n",
              "      <td>0.714534</td>\n",
              "      <td>0.244634</td>\n",
              "      <td>0.169270</td>\n",
              "      <td>-1.575649</td>\n",
              "      <td>1.473101</td>\n",
              "      <td>0.367746</td>\n",
              "      <td>0.149432</td>\n",
              "      <td>-0.122100</td>\n",
              "      <td>-0.041599</td>\n",
              "    </tr>\n",
              "    <tr>\n",
              "      <th>22027</th>\n",
              "      <td>-1.322898</td>\n",
              "      <td>0.458652</td>\n",
              "      <td>-0.508363</td>\n",
              "      <td>0.717259</td>\n",
              "      <td>0.161618</td>\n",
              "      <td>-0.881690</td>\n",
              "      <td>0.232942</td>\n",
              "      <td>-0.582526</td>\n",
              "      <td>0.275445</td>\n",
              "      <td>0.911691</td>\n",
              "      <td>...</td>\n",
              "      <td>-0.110384</td>\n",
              "      <td>-0.346827</td>\n",
              "      <td>0.051660</td>\n",
              "      <td>0.476046</td>\n",
              "      <td>-0.103070</td>\n",
              "      <td>1.933858</td>\n",
              "      <td>-0.111891</td>\n",
              "      <td>0.062589</td>\n",
              "      <td>0.119664</td>\n",
              "      <td>-0.041599</td>\n",
              "    </tr>\n",
              "    <tr>\n",
              "      <th>115639</th>\n",
              "      <td>-0.439434</td>\n",
              "      <td>0.705159</td>\n",
              "      <td>-0.777461</td>\n",
              "      <td>0.166106</td>\n",
              "      <td>-0.894838</td>\n",
              "      <td>-0.908337</td>\n",
              "      <td>-0.127338</td>\n",
              "      <td>-0.699590</td>\n",
              "      <td>-0.159001</td>\n",
              "      <td>-1.439133</td>\n",
              "      <td>...</td>\n",
              "      <td>-0.592932</td>\n",
              "      <td>-1.161554</td>\n",
              "      <td>-0.137303</td>\n",
              "      <td>-0.736856</td>\n",
              "      <td>0.869407</td>\n",
              "      <td>-0.607363</td>\n",
              "      <td>0.092840</td>\n",
              "      <td>0.097506</td>\n",
              "      <td>0.046579</td>\n",
              "      <td>-0.041599</td>\n",
              "    </tr>\n",
              "    <tr>\n",
              "      <th>199293</th>\n",
              "      <td>0.801847</td>\n",
              "      <td>-0.611533</td>\n",
              "      <td>-0.477165</td>\n",
              "      <td>0.099550</td>\n",
              "      <td>-0.583660</td>\n",
              "      <td>1.662015</td>\n",
              "      <td>-1.795232</td>\n",
              "      <td>0.244913</td>\n",
              "      <td>-0.190604</td>\n",
              "      <td>0.051338</td>\n",
              "      <td>...</td>\n",
              "      <td>0.158050</td>\n",
              "      <td>-0.035482</td>\n",
              "      <td>0.336855</td>\n",
              "      <td>-0.030914</td>\n",
              "      <td>-0.930823</td>\n",
              "      <td>-0.628902</td>\n",
              "      <td>0.244808</td>\n",
              "      <td>0.707013</td>\n",
              "      <td>-0.353229</td>\n",
              "      <td>-0.041599</td>\n",
              "    </tr>\n",
              "    <tr>\n",
              "      <th>33011</th>\n",
              "      <td>-1.216282</td>\n",
              "      <td>0.460494</td>\n",
              "      <td>-0.784436</td>\n",
              "      <td>-0.055498</td>\n",
              "      <td>-0.268829</td>\n",
              "      <td>-0.792303</td>\n",
              "      <td>-0.263885</td>\n",
              "      <td>-0.176043</td>\n",
              "      <td>0.000604</td>\n",
              "      <td>-0.808158</td>\n",
              "      <td>...</td>\n",
              "      <td>-0.335578</td>\n",
              "      <td>-0.889912</td>\n",
              "      <td>-0.207538</td>\n",
              "      <td>0.401761</td>\n",
              "      <td>0.343980</td>\n",
              "      <td>2.227649</td>\n",
              "      <td>-0.258349</td>\n",
              "      <td>0.059499</td>\n",
              "      <td>0.506279</td>\n",
              "      <td>-0.041599</td>\n",
              "    </tr>\n",
              "  </tbody>\n",
              "</table>\n",
              "<p>25000 rows × 31 columns</p>\n",
              "</div>\n",
              "      <button class=\"colab-df-convert\" onclick=\"convertToInteractive('df-a63ff850-ba47-4126-b2aa-258f80dc1325')\"\n",
              "              title=\"Convert this dataframe to an interactive table.\"\n",
              "              style=\"display:none;\">\n",
              "        \n",
              "  <svg xmlns=\"http://www.w3.org/2000/svg\" height=\"24px\"viewBox=\"0 0 24 24\"\n",
              "       width=\"24px\">\n",
              "    <path d=\"M0 0h24v24H0V0z\" fill=\"none\"/>\n",
              "    <path d=\"M18.56 5.44l.94 2.06.94-2.06 2.06-.94-2.06-.94-.94-2.06-.94 2.06-2.06.94zm-11 1L8.5 8.5l.94-2.06 2.06-.94-2.06-.94L8.5 2.5l-.94 2.06-2.06.94zm10 10l.94 2.06.94-2.06 2.06-.94-2.06-.94-.94-2.06-.94 2.06-2.06.94z\"/><path d=\"M17.41 7.96l-1.37-1.37c-.4-.4-.92-.59-1.43-.59-.52 0-1.04.2-1.43.59L10.3 9.45l-7.72 7.72c-.78.78-.78 2.05 0 2.83L4 21.41c.39.39.9.59 1.41.59.51 0 1.02-.2 1.41-.59l7.78-7.78 2.81-2.81c.8-.78.8-2.07 0-2.86zM5.41 20L4 18.59l7.72-7.72 1.47 1.35L5.41 20z\"/>\n",
              "  </svg>\n",
              "      </button>\n",
              "      \n",
              "  <style>\n",
              "    .colab-df-container {\n",
              "      display:flex;\n",
              "      flex-wrap:wrap;\n",
              "      gap: 12px;\n",
              "    }\n",
              "\n",
              "    .colab-df-convert {\n",
              "      background-color: #E8F0FE;\n",
              "      border: none;\n",
              "      border-radius: 50%;\n",
              "      cursor: pointer;\n",
              "      display: none;\n",
              "      fill: #1967D2;\n",
              "      height: 32px;\n",
              "      padding: 0 0 0 0;\n",
              "      width: 32px;\n",
              "    }\n",
              "\n",
              "    .colab-df-convert:hover {\n",
              "      background-color: #E2EBFA;\n",
              "      box-shadow: 0px 1px 2px rgba(60, 64, 67, 0.3), 0px 1px 3px 1px rgba(60, 64, 67, 0.15);\n",
              "      fill: #174EA6;\n",
              "    }\n",
              "\n",
              "    [theme=dark] .colab-df-convert {\n",
              "      background-color: #3B4455;\n",
              "      fill: #D2E3FC;\n",
              "    }\n",
              "\n",
              "    [theme=dark] .colab-df-convert:hover {\n",
              "      background-color: #434B5C;\n",
              "      box-shadow: 0px 1px 3px 1px rgba(0, 0, 0, 0.15);\n",
              "      filter: drop-shadow(0px 1px 2px rgba(0, 0, 0, 0.3));\n",
              "      fill: #FFFFFF;\n",
              "    }\n",
              "  </style>\n",
              "\n",
              "      <script>\n",
              "        const buttonEl =\n",
              "          document.querySelector('#df-a63ff850-ba47-4126-b2aa-258f80dc1325 button.colab-df-convert');\n",
              "        buttonEl.style.display =\n",
              "          google.colab.kernel.accessAllowed ? 'block' : 'none';\n",
              "\n",
              "        async function convertToInteractive(key) {\n",
              "          const element = document.querySelector('#df-a63ff850-ba47-4126-b2aa-258f80dc1325');\n",
              "          const dataTable =\n",
              "            await google.colab.kernel.invokeFunction('convertToInteractive',\n",
              "                                                     [key], {});\n",
              "          if (!dataTable) return;\n",
              "\n",
              "          const docLinkHtml = 'Like what you see? Visit the ' +\n",
              "            '<a target=\"_blank\" href=https://colab.research.google.com/notebooks/data_table.ipynb>data table notebook</a>'\n",
              "            + ' to learn more about interactive tables.';\n",
              "          element.innerHTML = '';\n",
              "          dataTable['output_type'] = 'display_data';\n",
              "          await google.colab.output.renderOutput(dataTable, element);\n",
              "          const docLink = document.createElement('div');\n",
              "          docLink.innerHTML = docLinkHtml;\n",
              "          element.appendChild(docLink);\n",
              "        }\n",
              "      </script>\n",
              "    </div>\n",
              "  </div>\n",
              "  "
            ]
          },
          "metadata": {},
          "execution_count": 9
        }
      ]
    },
    {
      "cell_type": "code",
      "source": [
        "corr = data.corr()\n",
        "\n",
        "plt.figure(figsize=(15,10))\n",
        "seaborn.heatmap(corr, cmap=\"YlGnBu\") # Displaying the Heatmap\n",
        "seaborn.set(font_scale=2,style='white')\n",
        "\n",
        "plt.title('correlation')\n",
        "plt.show()"
      ],
      "metadata": {
        "id": "cl4H0wn_xFdO",
        "colab": {
          "base_uri": "https://localhost:8080/",
          "height": 616
        },
        "outputId": "25f11d32-ecef-4976-c6d0-80562e00cdec"
      },
      "execution_count": null,
      "outputs": [
        {
          "output_type": "display_data",
          "data": {
            "text/plain": [
              "<Figure size 1080x720 with 2 Axes>"
            ],
            "image/png": "[encoded data removed]"
          },
          "metadata": {
            "needs_background": "light"
          }
        }
      ]
    },
    {
      "cell_type": "code",
      "source": [
        "rank = corr[30]\n",
        "rankDataFrame = pd.DataFrame(rank) \n",
        "rankDataFrame = np.abs(rankDataFrame).sort_values(by=30,ascending=False)\n",
        "rank.dropna(inplace=False)\n",
        "rankDataFrame.head(10)"
      ],
      "metadata": {
        "id": "8f0Qqw8BF92U",
        "colab": {
          "base_uri": "https://localhost:8080/",
          "height": 363
        },
        "outputId": "33745149-1ba7-4a37-b1ae-388e266ba0e7"
      },
      "execution_count": null,
      "outputs": [
        {
          "output_type": "execute_result",
          "data": {
            "text/plain": [
              "          30\n",
              "30  1.000000\n",
              "17  0.326481\n",
              "14  0.302544\n",
              "12  0.260593\n",
              "10  0.216883\n",
              "16  0.196539\n",
              "3   0.192961\n",
              "7   0.187257\n",
              "11  0.154876\n",
              "4   0.133447"
            ],
            "text/html": [
              "\n",
              "  <div id=\"df-b867e3af-c39c-4b7f-8909-d22d57313584\">\n",
              "    <div class=\"colab-df-container\">\n",
              "      <div>\n",
              "<style scoped>\n",
              "    .dataframe tbody tr th:only-of-type {\n",
              "        vertical-align: middle;\n",
              "    }\n",
              "\n",
              "    .dataframe tbody tr th {\n",
              "        vertical-align: top;\n",
              "    }\n",
              "\n",
              "    .dataframe thead th {\n",
              "        text-align: right;\n",
              "    }\n",
              "</style>\n",
              "<table border=\"1\" class=\"dataframe\">\n",
              "  <thead>\n",
              "    <tr style=\"text-align: right;\">\n",
              "      <th></th>\n",
              "      <th>30</th>\n",
              "    </tr>\n",
              "  </thead>\n",
              "  <tbody>\n",
              "    <tr>\n",
              "      <th>30</th>\n",
              "      <td>1.000000</td>\n",
              "    </tr>\n",
              "    <tr>\n",
              "      <th>17</th>\n",
              "      <td>0.326481</td>\n",
              "    </tr>\n",
              "    <tr>\n",
              "      <th>14</th>\n",
              "      <td>0.302544</td>\n",
              "    </tr>\n",
              "    <tr>\n",
              "      <th>12</th>\n",
              "      <td>0.260593</td>\n",
              "    </tr>\n",
              "    <tr>\n",
              "      <th>10</th>\n",
              "      <td>0.216883</td>\n",
              "    </tr>\n",
              "    <tr>\n",
              "      <th>16</th>\n",
              "      <td>0.196539</td>\n",
              "    </tr>\n",
              "    <tr>\n",
              "      <th>3</th>\n",
              "      <td>0.192961</td>\n",
              "    </tr>\n",
              "    <tr>\n",
              "      <th>7</th>\n",
              "      <td>0.187257</td>\n",
              "    </tr>\n",
              "    <tr>\n",
              "      <th>11</th>\n",
              "      <td>0.154876</td>\n",
              "    </tr>\n",
              "    <tr>\n",
              "      <th>4</th>\n",
              "      <td>0.133447</td>\n",
              "    </tr>\n",
              "  </tbody>\n",
              "</table>\n",
              "</div>\n",
              "      <button class=\"colab-df-convert\" onclick=\"convertToInteractive('df-b867e3af-c39c-4b7f-8909-d22d57313584')\"\n",
              "              title=\"Convert this dataframe to an interactive table.\"\n",
              "              style=\"display:none;\">\n",
              "        \n",
              "  <svg xmlns=\"http://www.w3.org/2000/svg\" height=\"24px\"viewBox=\"0 0 24 24\"\n",
              "       width=\"24px\">\n",
              "    <path d=\"M0 0h24v24H0V0z\" fill=\"none\"/>\n",
              "    <path d=\"M18.56 5.44l.94 2.06.94-2.06 2.06-.94-2.06-.94-.94-2.06-.94 2.06-2.06.94zm-11 1L8.5 8.5l.94-2.06 2.06-.94-2.06-.94L8.5 2.5l-.94 2.06-2.06.94zm10 10l.94 2.06.94-2.06 2.06-.94-2.06-.94-.94-2.06-.94 2.06-2.06.94z\"/><path d=\"M17.41 7.96l-1.37-1.37c-.4-.4-.92-.59-1.43-.59-.52 0-1.04.2-1.43.59L10.3 9.45l-7.72 7.72c-.78.78-.78 2.05 0 2.83L4 21.41c.39.39.9.59 1.41.59.51 0 1.02-.2 1.41-.59l7.78-7.78 2.81-2.81c.8-.78.8-2.07 0-2.86zM5.41 20L4 18.59l7.72-7.72 1.47 1.35L5.41 20z\"/>\n",
              "  </svg>\n",
              "      </button>\n",
              "      \n",
              "  <style>\n",
              "    .colab-df-container {\n",
              "      display:flex;\n",
              "      flex-wrap:wrap;\n",
              "      gap: 12px;\n",
              "    }\n",
              "\n",
              "    .colab-df-convert {\n",
              "      background-color: #E8F0FE;\n",
              "      border: none;\n",
              "      border-radius: 50%;\n",
              "      cursor: pointer;\n",
              "      display: none;\n",
              "      fill: #1967D2;\n",
              "      height: 32px;\n",
              "      padding: 0 0 0 0;\n",
              "      width: 32px;\n",
              "    }\n",
              "\n",
              "    .colab-df-convert:hover {\n",
              "      background-color: #E2EBFA;\n",
              "      box-shadow: 0px 1px 2px rgba(60, 64, 67, 0.3), 0px 1px 3px 1px rgba(60, 64, 67, 0.15);\n",
              "      fill: #174EA6;\n",
              "    }\n",
              "\n",
              "    [theme=dark] .colab-df-convert {\n",
              "      background-color: #3B4455;\n",
              "      fill: #D2E3FC;\n",
              "    }\n",
              "\n",
              "    [theme=dark] .colab-df-convert:hover {\n",
              "      background-color: #434B5C;\n",
              "      box-shadow: 0px 1px 3px 1px rgba(0, 0, 0, 0.15);\n",
              "      filter: drop-shadow(0px 1px 2px rgba(0, 0, 0, 0.3));\n",
              "      fill: #FFFFFF;\n",
              "    }\n",
              "  </style>\n",
              "\n",
              "      <script>\n",
              "        const buttonEl =\n",
              "          document.querySelector('#df-b867e3af-c39c-4b7f-8909-d22d57313584 button.colab-df-convert');\n",
              "        buttonEl.style.display =\n",
              "          google.colab.kernel.accessAllowed ? 'block' : 'none';\n",
              "\n",
              "        async function convertToInteractive(key) {\n",
              "          const element = document.querySelector('#df-b867e3af-c39c-4b7f-8909-d22d57313584');\n",
              "          const dataTable =\n",
              "            await google.colab.kernel.invokeFunction('convertToInteractive',\n",
              "                                                     [key], {});\n",
              "          if (!dataTable) return;\n",
              "\n",
              "          const docLinkHtml = 'Like what you see? Visit the ' +\n",
              "            '<a target=\"_blank\" href=https://colab.research.google.com/notebooks/data_table.ipynb>data table notebook</a>'\n",
              "            + ' to learn more about interactive tables.';\n",
              "          element.innerHTML = '';\n",
              "          dataTable['output_type'] = 'display_data';\n",
              "          await google.colab.output.renderOutput(dataTable, element);\n",
              "          const docLink = document.createElement('div');\n",
              "          docLink.innerHTML = docLinkHtml;\n",
              "          element.appendChild(docLink);\n",
              "        }\n",
              "      </script>\n",
              "    </div>\n",
              "  </div>\n",
              "  "
            ]
          },
          "metadata": {},
          "execution_count": 11
        }
      ]
    },
    {
      "cell_type": "code",
      "source": [
        "#We will use the first 2 features with the greatest correlation to class"
      ],
      "metadata": {
        "id": "AcDfbGRvxbiD"
      },
      "execution_count": null,
      "outputs": []
    },
    {
      "cell_type": "markdown",
      "source": [
        "#Benchmarking"
      ],
      "metadata": {
        "id": "IjyDNkUjyOV2"
      }
    },
    {
      "cell_type": "markdown",
      "source": [
        "After uploading the dataset and assigning non-y features to variable 'x', We can use the *standardize(data)* function to normalize the data and then call the *runBIRCH(data)* function to find the runtime. These will be compared to future runtimes when testing approaches with \"optimized\" hyperparameters.\n",
        "\n",
        "**Current Hyperparameter Values:**\n",
        "1. Cluster Count    =  3\n",
        "2. Threshhold       =  0.5\n",
        "3. Branching Factor = 50\n",
        "\n",
        "**Attention:** *When benchmarking, run this cell after all previous code is executed. If we are not benchmarking with the above hyperparameter values, we should skip this cell and standardized later on. Just to be safe :) -greg*"
      ],
      "metadata": {
        "id": "rRQCICzPQaEl"
      }
    },
    {
      "cell_type": "code",
      "source": [
        "def bench(estimator,data):\n",
        "  initial_time = time()\n",
        "  estimator.fit_transform(data)\n",
        "  totalTime = time() - initial_time\n",
        "  sil = metrics.silhouette_score(data, estimator.labels_, metric='euclidean', sample_size=500)\n",
        "  result = {'time': [totalTime], 'silhouette score': [sil]}\n",
        "  dfResults = pd.DataFrame(data=result)\n",
        "  return dfResults"
      ],
      "metadata": {
        "id": "JrRyekeNyiDE"
      },
      "execution_count": null,
      "outputs": []
    },
    {
      "cell_type": "markdown",
      "source": [
        "# Standard Birch Implementation"
      ],
      "metadata": {
        "id": "kw7E1Ww5KRqP"
      }
    },
    {
      "cell_type": "code",
      "source": [
        "standardBirch = Birch()\n",
        "birchBench = bench(estimator=standardBirch, data=sample)\n",
        "birchBench"
      ],
      "metadata": {
        "id": "VJ9ABa5mKXxp",
        "colab": {
          "base_uri": "https://localhost:8080/",
          "height": 81
        },
        "outputId": "3cb08cbf-a32d-4782-a581-02c03159f2b7"
      },
      "execution_count": null,
      "outputs": [
        {
          "output_type": "execute_result",
          "data": {
            "text/plain": [
              "        time  silhouette score\n",
              "0  33.224304          0.095258"
            ],
            "text/html": [
              "\n",
              "  <div id=\"df-6463d96d-0880-4b55-9cd1-07ba6fad2996\">\n",
              "    <div class=\"colab-df-container\">\n",
              "      <div>\n",
              "<style scoped>\n",
              "    .dataframe tbody tr th:only-of-type {\n",
              "        vertical-align: middle;\n",
              "    }\n",
              "\n",
              "    .dataframe tbody tr th {\n",
              "        vertical-align: top;\n",
              "    }\n",
              "\n",
              "    .dataframe thead th {\n",
              "        text-align: right;\n",
              "    }\n",
              "</style>\n",
              "<table border=\"1\" class=\"dataframe\">\n",
              "  <thead>\n",
              "    <tr style=\"text-align: right;\">\n",
              "      <th></th>\n",
              "      <th>time</th>\n",
              "      <th>silhouette score</th>\n",
              "    </tr>\n",
              "  </thead>\n",
              "  <tbody>\n",
              "    <tr>\n",
              "      <th>0</th>\n",
              "      <td>33.224304</td>\n",
              "      <td>0.095258</td>\n",
              "    </tr>\n",
              "  </tbody>\n",
              "</table>\n",
              "</div>\n",
              "      <button class=\"colab-df-convert\" onclick=\"convertToInteractive('df-6463d96d-0880-4b55-9cd1-07ba6fad2996')\"\n",
              "              title=\"Convert this dataframe to an interactive table.\"\n",
              "              style=\"display:none;\">\n",
              "        \n",
              "  <svg xmlns=\"http://www.w3.org/2000/svg\" height=\"24px\"viewBox=\"0 0 24 24\"\n",
              "       width=\"24px\">\n",
              "    <path d=\"M0 0h24v24H0V0z\" fill=\"none\"/>\n",
              "    <path d=\"M18.56 5.44l.94 2.06.94-2.06 2.06-.94-2.06-.94-.94-2.06-.94 2.06-2.06.94zm-11 1L8.5 8.5l.94-2.06 2.06-.94-2.06-.94L8.5 2.5l-.94 2.06-2.06.94zm10 10l.94 2.06.94-2.06 2.06-.94-2.06-.94-.94-2.06-.94 2.06-2.06.94z\"/><path d=\"M17.41 7.96l-1.37-1.37c-.4-.4-.92-.59-1.43-.59-.52 0-1.04.2-1.43.59L10.3 9.45l-7.72 7.72c-.78.78-.78 2.05 0 2.83L4 21.41c.39.39.9.59 1.41.59.51 0 1.02-.2 1.41-.59l7.78-7.78 2.81-2.81c.8-.78.8-2.07 0-2.86zM5.41 20L4 18.59l7.72-7.72 1.47 1.35L5.41 20z\"/>\n",
              "  </svg>\n",
              "      </button>\n",
              "      \n",
              "  <style>\n",
              "    .colab-df-container {\n",
              "      display:flex;\n",
              "      flex-wrap:wrap;\n",
              "      gap: 12px;\n",
              "    }\n",
              "\n",
              "    .colab-df-convert {\n",
              "      background-color: #E8F0FE;\n",
              "      border: none;\n",
              "      border-radius: 50%;\n",
              "      cursor: pointer;\n",
              "      display: none;\n",
              "      fill: #1967D2;\n",
              "      height: 32px;\n",
              "      padding: 0 0 0 0;\n",
              "      width: 32px;\n",
              "    }\n",
              "\n",
              "    .colab-df-convert:hover {\n",
              "      background-color: #E2EBFA;\n",
              "      box-shadow: 0px 1px 2px rgba(60, 64, 67, 0.3), 0px 1px 3px 1px rgba(60, 64, 67, 0.15);\n",
              "      fill: #174EA6;\n",
              "    }\n",
              "\n",
              "    [theme=dark] .colab-df-convert {\n",
              "      background-color: #3B4455;\n",
              "      fill: #D2E3FC;\n",
              "    }\n",
              "\n",
              "    [theme=dark] .colab-df-convert:hover {\n",
              "      background-color: #434B5C;\n",
              "      box-shadow: 0px 1px 3px 1px rgba(0, 0, 0, 0.15);\n",
              "      filter: drop-shadow(0px 1px 2px rgba(0, 0, 0, 0.3));\n",
              "      fill: #FFFFFF;\n",
              "    }\n",
              "  </style>\n",
              "\n",
              "      <script>\n",
              "        const buttonEl =\n",
              "          document.querySelector('#df-6463d96d-0880-4b55-9cd1-07ba6fad2996 button.colab-df-convert');\n",
              "        buttonEl.style.display =\n",
              "          google.colab.kernel.accessAllowed ? 'block' : 'none';\n",
              "\n",
              "        async function convertToInteractive(key) {\n",
              "          const element = document.querySelector('#df-6463d96d-0880-4b55-9cd1-07ba6fad2996');\n",
              "          const dataTable =\n",
              "            await google.colab.kernel.invokeFunction('convertToInteractive',\n",
              "                                                     [key], {});\n",
              "          if (!dataTable) return;\n",
              "\n",
              "          const docLinkHtml = 'Like what you see? Visit the ' +\n",
              "            '<a target=\"_blank\" href=https://colab.research.google.com/notebooks/data_table.ipynb>data table notebook</a>'\n",
              "            + ' to learn more about interactive tables.';\n",
              "          element.innerHTML = '';\n",
              "          dataTable['output_type'] = 'display_data';\n",
              "          await google.colab.output.renderOutput(dataTable, element);\n",
              "          const docLink = document.createElement('div');\n",
              "          docLink.innerHTML = docLinkHtml;\n",
              "          element.appendChild(docLink);\n",
              "        }\n",
              "      </script>\n",
              "    </div>\n",
              "  </div>\n",
              "  "
            ]
          },
          "metadata": {},
          "execution_count": 14
        }
      ]
    },
    {
      "cell_type": "markdown",
      "source": [
        "# A-BIRCH Implementation"
      ],
      "metadata": {
        "id": "GYqSXKRHU3WE"
      }
    },
    {
      "cell_type": "markdown",
      "source": [
        "A-BIRCH (Automatic BIRCH) is an approach by (source) in which we can automatically estimate the ***Threshhold*** hyperparameter. This serves three primary purposes:\n",
        "1. Attempt to automatically find 1 of 3 key hyperparameter values, which would otherwise be selected manually\n",
        "2. Remove the final clustering step, also removing the necessity of the ***cluster count*** hyperparameter\n",
        "3. Hasten the runtime for the BIRCH algortihm\n",
        "\n",
        "Note: Successful implementation would suggest the only other hyperparameter to contend with is that of the ***branching factor.***\n",
        "\n",
        "Purpose: Too high of a threshold results in a higher chance of cluster combining, while too low of a threshold results in a higher chance of cluster splitting. Thus, finding an optimal threshold is important.\n",
        "\n",
        "\"Datasets with a large ratio of cluster distance (the distance between the cluster centers) to cluster radius are less likely to produce such errors (Fig. 1C).\" -paper"
      ],
      "metadata": {
        "id": "vsnLS2UfU7NW"
      }
    },
    {
      "cell_type": "markdown",
      "source": [
        "The researchers provided the equations for evaluating threshhold. They formulated 2 equations, which often contain >1% error (very nice!). \n",
        "\n",
        "Formulated equation:\n",
        "\n",
        "**T = 0.2Dmin + 0.8Rmax, if Dmin >= 6.0 x Rmax**\n",
        "\n",
        "However, we can estimate a threshhold with an error under 1%\n",
        "\n",
        "T = (1/(0.3 x wrmax + 4.5)) x Dmin + 0.8 x Rmax\n",
        "\n",
        "so **T = (Dmin/0.3wrmax + 4.5) + 0.8Rmax.**\n",
        "\n",
        "**(Note: Wr (weight ratio) is 8.8 x D - 42.1)**\n",
        "\n",
        "Neglecting extreme cases, we can observe this trend with:\n",
        "\n",
        "**T = 2 x Rmax**\n",
        "\n",
        "This is assuming: Dmin > 6.0 x Rmax && wr <=10. This is not completely necessary, but will ensure low error. (We can try to check these conditions if possible, if they are not met we can still run with the value preceded by a warning of possible error)\n",
        "\n",
        "source: \"If the minimal cluster distance is greater than six times the maximum radius and the weight ratio of neighboring clusters is not greater than ten, a threshold  is a decent choice, with error probability smaller than one percent.\"\n"
      ],
      "metadata": {
        "id": "mPieobq8miHw"
      }
    },
    {
      "cell_type": "markdown",
      "source": [
        "Step 1: find Cluster distance and radius values\n",
        "\n",
        "Step 2: generate Threshold with data from previous step\n",
        "\n",
        "Step 3: Use generated threshold on BIRCH"
      ],
      "metadata": {
        "id": "LcU7UBR8sbug"
      }
    },
    {
      "cell_type": "markdown",
      "source": [
        "##Finding Cluster Radius using K-means"
      ],
      "metadata": {
        "id": "Pp9bNPvrLwXJ"
      }
    },
    {
      "cell_type": "markdown",
      "source": [
        "### Estimating cluster count"
      ],
      "metadata": {
        "id": "WrD9Pkn4L29g"
      }
    },
    {
      "cell_type": "markdown",
      "source": [
        "In order to sufficently find cluster radius, ideally we must have previous knowledge of the dataset. This is not always possible, so we must find a cost-effective method, since high cost is counterintuitive to using BIRCH which is efficient on large datasets. "
      ],
      "metadata": {
        "id": "j2-4OStPJfPa"
      }
    },
    {
      "cell_type": "markdown",
      "source": [
        "Finding cluster count is also something we are attempting to avoid as a BIRCH hyperparameter, but we must at least make estimations for the data. Results may vary."
      ],
      "metadata": {
        "id": "eqvPLG-RL_7e"
      }
    },
    {
      "cell_type": "code",
      "execution_count": null,
      "metadata": {
        "id": "5B0JjjCW-Q3Q",
        "colab": {
          "base_uri": "https://localhost:8080/"
        },
        "outputId": "8fb5bd36-c0fa-462a-b8d7-b0a7afae0d56"
      },
      "outputs": [
        {
          "output_type": "execute_result",
          "data": {
            "text/plain": [
              "377"
            ]
          },
          "metadata": {},
          "execution_count": 15
        }
      ],
      "source": [
        "# calculate a baseline for kMax\n",
        "kMax = int((data.shape[0]//2)**0.5)\n",
        "kMax"
      ]
    },
    {
      "cell_type": "markdown",
      "source": [
        "Unfortunately, we have a high number of 377 clusters.\n",
        "We are assuming this is a large dataset, and an extremely high cluster count would not be useful to us. Thus, we can try to compromise using k = kMax/10 to provide a number of clusters that may be meaningful to us."
      ],
      "metadata": {
        "id": "PeEdpb47KEch"
      }
    },
    {
      "cell_type": "code",
      "source": [
        "kMax_comp = int(kMax/10)\n",
        "kMax_comp"
      ],
      "metadata": {
        "id": "HIOCViy3GKMq",
        "colab": {
          "base_uri": "https://localhost:8080/"
        },
        "outputId": "91ea5494-17c8-4b9e-c644-5468b240f873"
      },
      "execution_count": null,
      "outputs": [
        {
          "output_type": "execute_result",
          "data": {
            "text/plain": [
              "37"
            ]
          },
          "metadata": {},
          "execution_count": 16
        }
      ]
    },
    {
      "cell_type": "markdown",
      "source": [
        "Complexity of finding optimal k using elbow method forces us to scale down with a sample of our dataset, in this case n = 500."
      ],
      "metadata": {
        "id": "MCKzDIk2Kv-W"
      }
    },
    {
      "cell_type": "code",
      "source": [
        "#sample size of 500\n",
        "k_sample_data = data.sample(n=500, random_state = 42)"
      ],
      "metadata": {
        "id": "MAOV1dqdVlVL"
      },
      "execution_count": null,
      "outputs": []
    },
    {
      "cell_type": "code",
      "source": [
        "#should only run a few values, this may be sensitive but *could* try reducing features in future during preprocessing\n",
        "# V14 and V17 provide the largest correlation, so we use V14 and V17 \n",
        "new_data = k_sample_data[[13, 16]].values "
      ],
      "metadata": {
        "id": "UqmxidTEDuwr"
      },
      "execution_count": null,
      "outputs": []
    },
    {
      "cell_type": "code",
      "source": [
        "# selecting optimal value of 'k' with elbow method\n",
        "# wcss = within cluster sum of squares\n",
        "wcss = {}\n",
        "\n",
        "for k in range(2,kMax_comp+1):\n",
        "  model = KMeans(n_clusters=k)\n",
        "  model.fit(new_data)\n",
        "  wcss[k] = model.inertia_\n"
      ],
      "metadata": {
        "id": "2uiu0Las_fVk"
      },
      "execution_count": null,
      "outputs": []
    },
    {
      "cell_type": "code",
      "source": [
        "# dictionary, datatype is eww\n",
        "print(wcss)\n",
        "print(type(wcss.keys()))"
      ],
      "metadata": {
        "id": "Q3afDKxw9hei",
        "colab": {
          "base_uri": "https://localhost:8080/"
        },
        "outputId": "3d26cff1-b6f6-4264-bce7-1b1c9632e8ea"
      },
      "execution_count": null,
      "outputs": [
        {
          "output_type": "stream",
          "name": "stdout",
          "text": [
            "{2: 710.3918973415041, 3: 506.7844505039267, 4: 400.57109383819335, 5: 323.8165687840125, 6: 274.27212475856567, 7: 233.93229804393386, 8: 209.10208279803365, 9: 188.92382997779728, 10: 164.39887128422035, 11: 151.51557123674496, 12: 135.4060137518477, 13: 121.02206141200061, 14: 110.45182791320036, 15: 100.91608297797805, 16: 91.84045420466255, 17: 87.3487929974259, 18: 81.52151589286038, 19: 74.74992801626709, 20: 71.43011573710598, 21: 67.28842100707247, 22: 64.5100763640449, 23: 60.86761961644178, 24: 58.11993559070977, 25: 55.195768934300915, 26: 52.95432367746618, 27: 50.59874163643175, 28: 47.123842910593126, 29: 45.32921159861094, 30: 44.06517701844167, 31: 41.85993713146781, 32: 39.52487312682932, 33: 39.35039339414138, 34: 38.8390597306611, 35: 36.72975778044734, 36: 35.371920734736, 37: 33.613209338294546}\n",
            "<class 'dict_keys'>\n"
          ]
        }
      ]
    },
    {
      "cell_type": "code",
      "source": [
        "#convert dictionary to plottable datatype\n",
        "# k = key\n",
        "# v = value\n",
        "wcss_new_k = [(k) for k, v in wcss.items()]\n",
        "wcss_new_v = [(v) for k, v in wcss.items()]"
      ],
      "metadata": {
        "id": "W9O9YKGODQhh"
      },
      "execution_count": null,
      "outputs": []
    },
    {
      "cell_type": "code",
      "source": [
        "print(wcss_new_k[0])\n",
        "print(wcss_new_v[0])"
      ],
      "metadata": {
        "id": "zEjeOvS3_L2e",
        "colab": {
          "base_uri": "https://localhost:8080/"
        },
        "outputId": "342f434a-950e-42ff-884b-1c13b44ec74a"
      },
      "execution_count": null,
      "outputs": [
        {
          "output_type": "stream",
          "name": "stdout",
          "text": [
            "2\n",
            "710.3918973415041\n"
          ]
        }
      ]
    },
    {
      "cell_type": "code",
      "source": [
        "# plotting the wcss values\n",
        "# to find out the elbow value\n",
        "plt.plot(wcss_new_k, wcss_new_v, 'gs-')\n",
        "plt.xlabel('Values of \"k\"')\n",
        "plt.ylabel('WCSS')\n",
        "plt.show()"
      ],
      "metadata": {
        "id": "4f4YDE049rrN",
        "colab": {
          "base_uri": "https://localhost:8080/",
          "height": 306
        },
        "outputId": "9e7d9965-1ff9-474b-f031-610a07a94f18"
      },
      "execution_count": null,
      "outputs": [
        {
          "output_type": "display_data",
          "data": {
            "text/plain": [
              "<Figure size 432x288 with 1 Axes>"
            ],
            "image/png": "[encoded data removed]"
          },
          "metadata": {}
        }
      ]
    },
    {
      "cell_type": "markdown",
      "source": [
        "Looking at the Graph, our prefered cluster count will be one in which the line begins to bottom out. On the credit card dataset, we should use between 15-20 as our k for kmeans."
      ],
      "metadata": {
        "id": "hW1MDahMJG_b"
      }
    },
    {
      "cell_type": "markdown",
      "source": [
        "###Estimating Cluster Radius"
      ],
      "metadata": {
        "id": "lr8DFS_OMlwu"
      }
    },
    {
      "cell_type": "code",
      "source": [
        "num_clusters = 20"
      ],
      "metadata": {
        "id": "_PSVRBU-fVoj"
      },
      "execution_count": null,
      "outputs": []
    },
    {
      "cell_type": "code",
      "source": [
        "estimator = KMeans(n_clusters=num_clusters)\n",
        "y_kmeans = estimator.fit(new_data)"
      ],
      "metadata": {
        "id": "1X815y-wN0Bj"
      },
      "execution_count": null,
      "outputs": []
    },
    {
      "cell_type": "code",
      "source": [
        "#find centroids\n",
        "print(y_kmeans.labels_)\n",
        "print(y_kmeans.cluster_centers_)\n",
        "centroids = np.array(y_kmeans.cluster_centers_)\n",
        "#print(centroids)"
      ],
      "metadata": {
        "id": "A-kpPaAsLuHE",
        "colab": {
          "base_uri": "https://localhost:8080/"
        },
        "outputId": "25a20cf3-4543-407a-d6b2-225657f81462"
      },
      "execution_count": null,
      "outputs": [
        {
          "output_type": "stream",
          "name": "stdout",
          "text": [
            "[ 5 10 16  4  3 11 14 18  6  0 17  0 12  9  1  4 18 16 13 14 14  1 12 12\n",
            " 10  4  3 16  3 12  1 13  8 17 18 14 11  3  1 10 18  2  9  1  0  2 13  3\n",
            "  4 11 12 11 12  2 13 14 11  0  9 13  9  3 18 11 10 18  9  9  9  9  2 17\n",
            " 11 18 12  9 14  2 12  4 14 14  4  2  0  1 12 12  6 17  4 13  0  9  6  4\n",
            "  4  3 13  4  2 12  1 11 10  4 14 12 17 13 13  4 13  3 16  0  9 10  6 13\n",
            "  6 13  9 15 18  0  2  2 11 18 16  9  3 19 13 14  1 17  9  1  4 13  4 12\n",
            "  1 13 13 12 15  4 13 10  1 12  4 12  9  9  4  4 18  3 11 17 15  9 11 13\n",
            "  3  9  4 18  9 17  2 17 14  4 14  3 18  4  3 14 18  9 14 10  0  3 11 10\n",
            " 18 12  6  9 17  9  2 13 14 12 16  2 14 13  9  4  0 12  3  4  2  3 14  4\n",
            " 13  6 13  4  3 10 16 17 18  0  0  3 16  9  0 18 15 14 14  4 12  0 14  0\n",
            " 10 15  1 15 15  9  1 14  7 15  3 18  2 10  2 13 18  4 13 14 14 14 18 16\n",
            "  1  9 18  9 16  1  4 16 11  4 11  0 14  1  1  1  1 18 14 13  1 17 10  9\n",
            "  0  0 12 16  4 12  7 13  9  9 11  9  3 18  4 11  3  4  0  6  3 10 18  2\n",
            " 12 16  9  0 18 18  9  3 12 19  3  9  9 13  2 14  2 14 12  3  2  6  4  3\n",
            "  2  3 11 13 17 13  1  6 18  4 14  0  0 17  3 17 15  4  9  4 12  1  3  9\n",
            "  9 18  9 14  1  3  2 14  3 16  4 12 12 17  4 15 17 16  3 14  1  2 12  0\n",
            " 13 12 11 12  2 14 14  2  3  7  4 13  3  4  3  4  4 17 17  9 17  9  3 11\n",
            "  7 13  2 14  4 11  4  9 14  0 18 14  9 14 11  4 16 16  0  2  3 13  9 10\n",
            "  9 15  7  1  7 13  0 18 12  1 18 15 13 14  0  3  2 15  9 14  9 12  2 14\n",
            "  1 14  3  6 17  1  6  6  9 11  9  3 18 12  3 12  9 18 12  3  4 11 17 10\n",
            "  4 17  3  4  4  9  2 13  0 17 12 14 14 13 18  4 16  6  3  4]\n",
            "[[ -0.13001916   1.09586891]\n",
            " [  0.31649996  -0.99880513]\n",
            " [  2.02581379   0.14612367]\n",
            " [ -0.71968466   0.14700345]\n",
            " [  0.9010338    0.45129805]\n",
            " [  1.67905803 -11.29726825]\n",
            " [ -1.40933239  -1.39810223]\n",
            " [  1.47889919  -1.51483823]\n",
            " [  3.06788718   5.17120463]\n",
            " [ -0.09562623   0.36208885]\n",
            " [ -0.08898179  -1.90003179]\n",
            " [ -1.94701422   0.32523838]\n",
            " [ -0.40803361  -0.72690334]\n",
            " [  1.13342897  -0.40055621]\n",
            " [  0.14164561  -0.14080983]\n",
            " [ -1.13117716   1.54955171]\n",
            " [  0.92410416   1.41830254]\n",
            " [ -1.27306357  -0.32952666]\n",
            " [ -0.94824638   0.80268622]\n",
            " [  0.03712464  -4.18374199]]\n"
          ]
        }
      ]
    },
    {
      "cell_type": "code",
      "source": [
        "plt.plot()\n",
        "plt.title('k means centroids')\n",
        "\n",
        "for i in range(num_clusters):\n",
        "    plt.plot(centroids[i][0], centroids[i][1], ls='None')\n",
        "\n",
        "plt.scatter(centroids[:,0], centroids[:,1],  marker=\"x\", color='r')\n",
        "plt.show()"
      ],
      "metadata": {
        "id": "hvI1FLV4clOA",
        "colab": {
          "base_uri": "https://localhost:8080/",
          "height": 303
        },
        "outputId": "d2ada915-fb78-43ab-88d9-73540f9a4898"
      },
      "execution_count": null,
      "outputs": [
        {
          "output_type": "display_data",
          "data": {
            "text/plain": [
              "<Figure size 432x288 with 1 Axes>"
            ],
            "image/png": "[encoded data removed]"
          },
          "metadata": {}
        }
      ]
    },
    {
      "cell_type": "code",
      "source": [
        "print(centroids[:][0])"
      ],
      "metadata": {
        "id": "7nj2YQn4mbQV",
        "colab": {
          "base_uri": "https://localhost:8080/"
        },
        "outputId": "ee9927ef-72e6-41b3-8d65-3cf8aea2da49"
      },
      "execution_count": null,
      "outputs": [
        {
          "output_type": "stream",
          "name": "stdout",
          "text": [
            "[-0.13001916  1.09586891]\n"
          ]
        }
      ]
    },
    {
      "cell_type": "code",
      "source": [
        "#calculate distance between centroids\n",
        "\n",
        "cluster_dist = cdist(XA=centroids,XB=centroids, metric='euclidean')\n",
        "print (cluster_dist)\n",
        "\n",
        "\n",
        "\n",
        "\n",
        "#take max distance divided by 2 **This makes 2 assumptions\n",
        "#1. No overlap in clusters\n",
        "#2. Clusters are perfect shape"
      ],
      "metadata": {
        "id": "QTZcBT9LhUNA",
        "colab": {
          "base_uri": "https://localhost:8080/"
        },
        "outputId": "79e84e67-1ca0-4cde-a388-226752cb1238"
      },
      "execution_count": null,
      "outputs": [
        {
          "output_type": "stream",
          "name": "stdout",
          "text": [
            "[[ 0.          2.1417373   2.35576564  1.11716205  1.21595304 12.52448038\n",
            "   2.80295101  3.06666106  5.18024769  0.73458564  2.99618175  1.97366219\n",
            "   1.84385214  1.95846607  1.26616589  1.09915669  1.10233363  1.82710236\n",
            "   0.86916735  5.28225599]\n",
            " [ 2.1417373   0.          2.05733219  1.54484818  1.56348298 10.38821\n",
            "   1.77142188  1.27179484  6.75567554  1.42192842  0.98824336  2.62232486\n",
            "   0.77387303  1.01255853  0.87563119  2.9308517   2.49230664  1.72471618\n",
            "   2.20112571  3.19716646]\n",
            " [ 2.35576564  2.05733219  0.          2.74549859  1.16544474 11.44864438\n",
            "   3.76627972  1.74868809  5.13199333  2.13240444  2.942637    3.97686364\n",
            "   2.58568933  1.0465226   1.90589101  3.45488092  1.68291508  3.3329919\n",
            "   3.04567041  4.76472677]\n",
            " [ 1.11716205  1.54484818  2.74549859  0.          1.64903715 11.69296033\n",
            "   1.69203001  2.75599143  6.29192322  0.66008382  2.14199426  1.24020382\n",
            "   0.92781435  1.93231771  0.90814444  1.46166607  2.07803828  0.73028019\n",
            "   0.69437767  4.39637537]\n",
            " [ 1.21595304  1.56348298  1.16544474  1.64903715  0.         11.77429962\n",
            "   2.95940421  2.04929751  5.19353172  1.00064454  2.55125123  2.85083646\n",
            "   1.76119731  0.88298539  0.96294452  2.30998755  0.96727966  2.31006202\n",
            "   1.88236841  4.71486322]\n",
            " [12.52448038 10.38821    11.44864438 11.69296033 11.77429962  0.\n",
            "  10.36974654  9.78447753 16.5269309  11.7936471   9.56211367 12.17501788\n",
            "  10.77444039 10.91036407 11.26189155 13.15059713 12.73796278 11.35809744\n",
            "  12.38190722  7.30056169]\n",
            " [ 2.80295101  1.77142188  3.76627972  1.69203001  2.95940421 10.36974654\n",
            "   0.          2.89058973  7.94992375  2.19638259  1.41253637  1.80527134\n",
            "   1.20544896  2.73143431  1.99657631  2.96074891  3.65746661  1.07722929\n",
            "   2.24857068  3.13879385]\n",
            " [ 3.06666106  1.27179484  1.74868809  2.75599143  2.04929751  9.78447753\n",
            "   2.89058973  0.          6.87226687  2.44989501  1.61450452  3.8887999\n",
            "   2.04483661  1.16660794  1.91734222  4.02529307  2.98514863  2.9963749\n",
            "   3.35588367  3.03344048]\n",
            " [ 5.18024769  6.75567554  5.13199333  6.29192322  5.19353172 16.5269309\n",
            "   7.94992375  6.87226687  0.          5.75633665  7.74391414  6.97370954\n",
            "   6.84614511  5.89802064  6.06468361  5.54513401  4.32204577  7.00727465\n",
            "   5.93407801  9.83364367]\n",
            " [ 0.73458564  1.42192842  2.13240444  0.66008382  1.00064454 11.7936471\n",
            "   2.19638259  2.44989501  5.75633665  0.          2.26213039  1.85175469\n",
            "   1.13291763  1.44644536  0.55606205  1.57557412  1.46814081  1.36553678\n",
            "   0.95973286  4.54776877]\n",
            " [ 2.99618175  0.98824336  2.942637    2.14199426  2.55125123  9.56211367\n",
            "   1.41253637  1.61450452  7.74391414  2.26213039  0.          2.89898462\n",
            "   1.21574027  1.9346098   1.77427476  3.60358121  3.46953684  1.96685943\n",
            "   2.83602191  2.28718935]\n",
            " [ 1.97366219  2.62232486  3.97686364  1.24020382  2.85083646 12.17501788\n",
            "   1.80527134  3.8887999   6.97370954  1.85175469  2.89898462  0.\n",
            "   1.86425951  3.16479194  2.14002355  1.47123527  3.07215072  0.93964182\n",
            "   1.10702015  4.92622686]\n",
            " [ 1.84385214  0.77387303  2.58568933  0.92781435  1.76119731 10.77444039\n",
            "   1.20544896  2.04483661  6.84614511  1.13291763  1.21574027  1.86425951\n",
            "   0.          1.57562982  0.80352527  2.38855275  2.52517313  0.95193753\n",
            "   1.62218188  3.48538367]\n",
            " [ 1.95846607  1.01255853  1.0465226   1.93231771  0.88298539 10.91036407\n",
            "   2.73143431  1.16660794  5.89802064  1.44644536  1.9346098   3.16479194\n",
            "   1.57562982  0.          1.02523286  2.98853842  1.83086429  2.40754055\n",
            "   2.40440525  3.9388295 ]\n",
            " [ 1.26616589  0.87563119  1.90589101  0.90814444  0.96294452 11.26189155\n",
            "   1.99657631  1.91734222  6.06468361  0.55606205  1.77427476  2.14002355\n",
            "   0.80352527  1.02523286  0.          2.11598676  1.74444053  1.42724073\n",
            "   1.44154408  4.04428302]\n",
            " [ 1.09915669  2.9308517   3.45488092  1.46166607  2.30998755 13.15059713\n",
            "   2.96074891  4.02529307  5.54513401  1.57557412  3.60358121  1.47123527\n",
            "   2.38855275  2.98853842  2.11598676  0.          2.05946782  1.88442757\n",
            "   0.76894196  5.85111834]\n",
            " [ 1.10233363  2.49230664  1.68291508  2.07803828  0.96727966 12.73796278\n",
            "   3.65746661  2.98514863  4.32204577  1.46814081  3.46953684  3.07215072\n",
            "   2.52517313  1.83086429  1.74444053  2.05946782  0.          2.80757065\n",
            "   1.97095917  5.67182824]\n",
            " [ 1.82710236  1.72471618  3.3329919   0.73028019  2.31006202 11.35809744\n",
            "   1.07722929  2.9963749   7.00727465  1.36553678  1.96685943  0.93964182\n",
            "   0.95193753  2.40754055  1.42724073  1.88442757  2.80757065  0.\n",
            "   1.17788463  4.0708192 ]\n",
            " [ 0.86916735  2.20112571  3.04567041  0.69437767  1.88236841 12.38190722\n",
            "   2.24857068  3.35588367  5.93407801  0.95973286  2.83602191  1.10702015\n",
            "   1.62218188  2.40440525  1.44154408  0.76894196  1.97095917  1.17788463\n",
            "   0.          5.08285572]\n",
            " [ 5.28225599  3.19716646  4.76472677  4.39637537  4.71486322  7.30056169\n",
            "   3.13879385  3.03344048  9.83364367  4.54776877  2.28718935  4.92622686\n",
            "   3.48538367  3.9388295   4.04428302  5.85111834  5.67182824  4.0708192\n",
            "   5.08285572  0.        ]]\n"
          ]
        }
      ]
    },
    {
      "cell_type": "code",
      "source": [
        "cluster_dist[0]"
      ],
      "metadata": {
        "id": "dh5A2dtEttZp",
        "colab": {
          "base_uri": "https://localhost:8080/"
        },
        "outputId": "2a5524c7-6020-42a8-d368-82bd6d3d1157"
      },
      "execution_count": null,
      "outputs": [
        {
          "output_type": "execute_result",
          "data": {
            "text/plain": [
              "array([ 0.        ,  2.1417373 ,  2.35576564,  1.11716205,  1.21595304,\n",
              "       12.52448038,  2.80295101,  3.06666106,  5.18024769,  0.73458564,\n",
              "        2.99618175,  1.97366219,  1.84385214,  1.95846607,  1.26616589,\n",
              "        1.09915669,  1.10233363,  1.82710236,  0.86916735,  5.28225599])"
            ]
          },
          "metadata": {},
          "execution_count": 30
        }
      ]
    },
    {
      "cell_type": "code",
      "source": [
        "#find max distance between each centroid\n",
        "max_sum = 0\n",
        "\n",
        "for i in range(num_clusters):\n",
        "  max_sum += max(cluster_dist[i])\n",
        "\n",
        "print(\"Max Sums: \", max_sum)\n",
        "max_avg = max_sum/num_clusters\n",
        "\n",
        "#average max distances\n",
        "print(\"Max Average Distance: \", max_avg)\n"
      ],
      "metadata": {
        "id": "o_kBdqyZsQYW",
        "colab": {
          "base_uri": "https://localhost:8080/"
        },
        "outputId": "16ff4e59-14dd-45f3-8cc2-ebd9f3b99bb3"
      },
      "execution_count": null,
      "outputs": [
        {
          "output_type": "stream",
          "name": "stdout",
          "text": [
            "Max Sums:  236.97636349244368\n",
            "Max Average Distance:  11.848818174622185\n"
          ]
        }
      ]
    },
    {
      "cell_type": "markdown",
      "source": [
        "Estimating Rmax = Max radius of a cluster\n",
        "\n",
        "This makes 2 greedy assumptions\n",
        "1. No overlap in clusters\n",
        "2. Clusters are perfect shape\n"
      ],
      "metadata": {
        "id": "XakcNTo_zcD7"
      }
    },
    {
      "cell_type": "code",
      "source": [
        "#divide by 2\n",
        "estimated_max_radius = max_avg/2\n",
        "print(\"Estimated Rmax: \", estimated_max_radius)\n",
        "\n",
        "#This makes 2 assumptions\n",
        "#1. No overlap in clusters\n",
        "#2. Clusters are perfect shape"
      ],
      "metadata": {
        "id": "MS1HkdYtzZtF",
        "colab": {
          "base_uri": "https://localhost:8080/"
        },
        "outputId": "fc0fc7e2-94b3-4754-b772-3ad6e0953bd9"
      },
      "execution_count": null,
      "outputs": [
        {
          "output_type": "stream",
          "name": "stdout",
          "text": [
            "Estimated Rmax:  5.924409087311092\n"
          ]
        }
      ]
    },
    {
      "cell_type": "markdown",
      "source": [
        "Estimating Dmin = Minimum distance between 2 clusters"
      ],
      "metadata": {
        "id": "2lgvSp3Mzf4l"
      }
    },
    {
      "cell_type": "code",
      "source": [
        "#find min distance between each centroid\n",
        "min_dist = 100 #arbitrary high number, cannot set to 0\n",
        "\n",
        "for i in range(num_clusters-1):\n",
        "  temp = cluster_dist[i]\n",
        "  temp = np.delete(temp,[i])\n",
        "#  print(temp)\n",
        "#  print(temp.dtype)\n",
        "#  print(\"Min Distance @ \",i,\": \", min_dist)\n",
        "  if min_dist > min(temp[i:]):\n",
        "    min_dist = min(temp[i:])\n",
        "\n",
        "print(\"Min Distance: \", min_dist)"
      ],
      "metadata": {
        "id": "Gu8q-fOnzvfa",
        "colab": {
          "base_uri": "https://localhost:8080/"
        },
        "outputId": "093f8c9b-6867-4d9e-cb9f-7e9e824df2bb"
      },
      "execution_count": null,
      "outputs": [
        {
          "output_type": "stream",
          "name": "stdout",
          "text": [
            "Min Distance:  0.5560620481113522\n"
          ]
        }
      ]
    },
    {
      "cell_type": "markdown",
      "source": [
        "Calculating Weight Ratio"
      ],
      "metadata": {
        "id": "wphEeyI-zhuu"
      }
    },
    {
      "cell_type": "code",
      "source": [
        "def calc_WR(distance):\n",
        "  weight_ratio = 8.8 * distance - 42.1\n",
        "  return weight_ratio"
      ],
      "metadata": {
        "id": "dOlioZr20z6t"
      },
      "execution_count": null,
      "outputs": []
    },
    {
      "cell_type": "code",
      "source": [
        "# function to calculate Threshold\n",
        "# inputs will be Rmax, Dmin. Weight ratio wr will be called if needed\n",
        "# i am implementing both functions so we can compare later with real R and D values\n",
        "\n",
        "\n",
        "# LE = low error (>1%) ---> preferred solution\n",
        "def calc_Opt_Thresh_LE(radius, distance):\n",
        "  thresh = 2 * radius\n",
        "  if (distance >= 6*radius):\n",
        "    return thresh\n",
        "  else:\n",
        "    print(\"Conditional Dmin >= 6*Rmax is not met. Results may have errors!\")\n",
        "  return thresh\n",
        "\n",
        "def calc_Opt_Thresh(radius, distance):\n",
        "  wr = calc_WR(distance)\n",
        "  thresh = (distance / (.3 * wr + 4.5)) + (.8 * radius)\n",
        "  return thresh\n"
      ],
      "metadata": {
        "id": "m3ruiXYpLPSO"
      },
      "execution_count": null,
      "outputs": []
    },
    {
      "cell_type": "code",
      "source": [
        "if(min_dist >= 6*estimated_max_radius):\n",
        "  modBirch = Birch(n_clusters=num_clusters, threshold=calc_Opt_Thresh_LE(radius=estimated_max_radius, distance=min_dist))\n",
        "else:\n",
        "  modBirch = Birch(n_clusters=num_clusters, threshold=calc_Opt_Thresh(radius=estimated_max_radius,distance=min_dist))\n",
        "modBirchBench = bench(estimator=modBirch, data=sample)\n"
      ],
      "metadata": {
        "id": "APdIkCITSA4B"
      },
      "execution_count": null,
      "outputs": []
    },
    {
      "cell_type": "markdown",
      "source": [
        "#Results"
      ],
      "metadata": {
        "id": "iCE4gaFv1obm"
      }
    },
    {
      "cell_type": "code",
      "source": [
        "results = pd.concat([birchBench, modBirchBench], keys=['Standard Birch', 'A-Birch'])"
      ],
      "metadata": {
        "id": "7LStbZrtCCBi"
      },
      "execution_count": null,
      "outputs": []
    },
    {
      "cell_type": "code",
      "source": [
        "results"
      ],
      "metadata": {
        "colab": {
          "base_uri": "https://localhost:8080/",
          "height": 112
        },
        "id": "f2x35MzhCDA5",
        "outputId": "8ebb7672-f4e2-4098-f06b-5b0aa6a0cbb2"
      },
      "execution_count": null,
      "outputs": [
        {
          "output_type": "execute_result",
          "data": {
            "text/plain": [
              "                       time  silhouette score\n",
              "Standard Birch 0  33.224304          0.095258\n",
              "A-Birch        0   1.166136          0.185213"
            ],
            "text/html": [
              "\n",
              "  <div id=\"df-0cd792e4-30e4-4af4-bba4-bad495f69f6b\">\n",
              "    <div class=\"colab-df-container\">\n",
              "      <div>\n",
              "<style scoped>\n",
              "    .dataframe tbody tr th:only-of-type {\n",
              "        vertical-align: middle;\n",
              "    }\n",
              "\n",
              "    .dataframe tbody tr th {\n",
              "        vertical-align: top;\n",
              "    }\n",
              "\n",
              "    .dataframe thead th {\n",
              "        text-align: right;\n",
              "    }\n",
              "</style>\n",
              "<table border=\"1\" class=\"dataframe\">\n",
              "  <thead>\n",
              "    <tr style=\"text-align: right;\">\n",
              "      <th></th>\n",
              "      <th></th>\n",
              "      <th>time</th>\n",
              "      <th>silhouette score</th>\n",
              "    </tr>\n",
              "  </thead>\n",
              "  <tbody>\n",
              "    <tr>\n",
              "      <th>Standard Birch</th>\n",
              "      <th>0</th>\n",
              "      <td>33.224304</td>\n",
              "      <td>0.095258</td>\n",
              "    </tr>\n",
              "    <tr>\n",
              "      <th>A-Birch</th>\n",
              "      <th>0</th>\n",
              "      <td>1.166136</td>\n",
              "      <td>0.185213</td>\n",
              "    </tr>\n",
              "  </tbody>\n",
              "</table>\n",
              "</div>\n",
              "      <button class=\"colab-df-convert\" onclick=\"convertToInteractive('df-0cd792e4-30e4-4af4-bba4-bad495f69f6b')\"\n",
              "              title=\"Convert this dataframe to an interactive table.\"\n",
              "              style=\"display:none;\">\n",
              "        \n",
              "  <svg xmlns=\"http://www.w3.org/2000/svg\" height=\"24px\"viewBox=\"0 0 24 24\"\n",
              "       width=\"24px\">\n",
              "    <path d=\"M0 0h24v24H0V0z\" fill=\"none\"/>\n",
              "    <path d=\"M18.56 5.44l.94 2.06.94-2.06 2.06-.94-2.06-.94-.94-2.06-.94 2.06-2.06.94zm-11 1L8.5 8.5l.94-2.06 2.06-.94-2.06-.94L8.5 2.5l-.94 2.06-2.06.94zm10 10l.94 2.06.94-2.06 2.06-.94-2.06-.94-.94-2.06-.94 2.06-2.06.94z\"/><path d=\"M17.41 7.96l-1.37-1.37c-.4-.4-.92-.59-1.43-.59-.52 0-1.04.2-1.43.59L10.3 9.45l-7.72 7.72c-.78.78-.78 2.05 0 2.83L4 21.41c.39.39.9.59 1.41.59.51 0 1.02-.2 1.41-.59l7.78-7.78 2.81-2.81c.8-.78.8-2.07 0-2.86zM5.41 20L4 18.59l7.72-7.72 1.47 1.35L5.41 20z\"/>\n",
              "  </svg>\n",
              "      </button>\n",
              "      \n",
              "  <style>\n",
              "    .colab-df-container {\n",
              "      display:flex;\n",
              "      flex-wrap:wrap;\n",
              "      gap: 12px;\n",
              "    }\n",
              "\n",
              "    .colab-df-convert {\n",
              "      background-color: #E8F0FE;\n",
              "      border: none;\n",
              "      border-radius: 50%;\n",
              "      cursor: pointer;\n",
              "      display: none;\n",
              "      fill: #1967D2;\n",
              "      height: 32px;\n",
              "      padding: 0 0 0 0;\n",
              "      width: 32px;\n",
              "    }\n",
              "\n",
              "    .colab-df-convert:hover {\n",
              "      background-color: #E2EBFA;\n",
              "      box-shadow: 0px 1px 2px rgba(60, 64, 67, 0.3), 0px 1px 3px 1px rgba(60, 64, 67, 0.15);\n",
              "      fill: #174EA6;\n",
              "    }\n",
              "\n",
              "    [theme=dark] .colab-df-convert {\n",
              "      background-color: #3B4455;\n",
              "      fill: #D2E3FC;\n",
              "    }\n",
              "\n",
              "    [theme=dark] .colab-df-convert:hover {\n",
              "      background-color: #434B5C;\n",
              "      box-shadow: 0px 1px 3px 1px rgba(0, 0, 0, 0.15);\n",
              "      filter: drop-shadow(0px 1px 2px rgba(0, 0, 0, 0.3));\n",
              "      fill: #FFFFFF;\n",
              "    }\n",
              "  </style>\n",
              "\n",
              "      <script>\n",
              "        const buttonEl =\n",
              "          document.querySelector('#df-0cd792e4-30e4-4af4-bba4-bad495f69f6b button.colab-df-convert');\n",
              "        buttonEl.style.display =\n",
              "          google.colab.kernel.accessAllowed ? 'block' : 'none';\n",
              "\n",
              "        async function convertToInteractive(key) {\n",
              "          const element = document.querySelector('#df-0cd792e4-30e4-4af4-bba4-bad495f69f6b');\n",
              "          const dataTable =\n",
              "            await google.colab.kernel.invokeFunction('convertToInteractive',\n",
              "                                                     [key], {});\n",
              "          if (!dataTable) return;\n",
              "\n",
              "          const docLinkHtml = 'Like what you see? Visit the ' +\n",
              "            '<a target=\"_blank\" href=https://colab.research.google.com/notebooks/data_table.ipynb>data table notebook</a>'\n",
              "            + ' to learn more about interactive tables.';\n",
              "          element.innerHTML = '';\n",
              "          dataTable['output_type'] = 'display_data';\n",
              "          await google.colab.output.renderOutput(dataTable, element);\n",
              "          const docLink = document.createElement('div');\n",
              "          docLink.innerHTML = docLinkHtml;\n",
              "          element.appendChild(docLink);\n",
              "        }\n",
              "      </script>\n",
              "    </div>\n",
              "  </div>\n",
              "  "
            ]
          },
          "metadata": {},
          "execution_count": 38
        }
      ]
    },
    {
      "cell_type": "markdown",
      "source": [
        "Results show the algorithm improved overall silhouette score by 2 to 5 times and time by 19 times which is a considerable amount for a sample size of 25,000."
      ],
      "metadata": {
        "id": "Kj7SQXz32dpZ"
      }
    },
    {
      "cell_type": "markdown",
      "source": [
        "#Conclusion"
      ],
      "metadata": {
        "id": "650pmyg92bMR"
      }
    },
    {
      "cell_type": "markdown",
      "source": [
        "Through our results we were successful in improving both time of the algorithm and the silhouette score. However, upon experimenting with this data, google colab doesn't have the approriate memory to support the dataset. If a dataset has roughly or more than 25,000 instances it might be vital to parallelize this algorithm to account for the memory bottleneck that it suffers from."
      ],
      "metadata": {
        "id": "qwPWxNZ02zDM"
      }
    }
  ]
}